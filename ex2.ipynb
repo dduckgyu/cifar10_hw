{
  "cells": [
    {
      "cell_type": "code",
      "execution_count": 1,
      "metadata": {},
      "outputs": [],
      "source": [
        "import os\n",
        "\n",
        "os.environ['CUDA_VISIBLE_DEVICES'] = '6'"
      ]
    },
    {
      "cell_type": "code",
      "execution_count": 2,
      "metadata": {
        "id": "sYrZpbkd02RY"
      },
      "outputs": [],
      "source": [
        "import torch\n",
        "import torchvision\n",
        "import torchvision.transforms as T\n",
        "import torch.nn as nn\n",
        "import torch.optim as optim\n",
        "import torchvision.models as models\n",
        "import random\n",
        "import numpy as np"
      ]
    },
    {
      "cell_type": "code",
      "execution_count": null,
      "metadata": {
        "id": "wVtnkAVw2EX0"
      },
      "outputs": [],
      "source": [
        "# def seed_everything(seed_number = s):\n",
        "#   random.seed(seed_number)\n",
        "#   np.random.seed(seed_number)\n",
        "#   _ = torch.manual_seed(seed_number)\n",
        "#   torch.cuda.manual_seed(seed_number)\n",
        "#   torch.cuda.manual_seed_all(seed_number)\n",
        "#   torch.backends.cudnn.deterministic = True\n",
        "#   torch.backends.cudnn.benchmark = False\n",
        "#   return seed_number"
      ]
    },
    {
      "cell_type": "code",
      "execution_count": 3,
      "metadata": {
        "id": "dlbanOU8W77I"
      },
      "outputs": [],
      "source": [
        "size = 224\n",
        "mean  = (0.49139968, 0.48215827, 0.44653124)\n",
        "std = (0.24703233, 0.24348505, 0.26158768)\n",
        "\n",
        "# Defrine transforms\n",
        "\n",
        "transforms = {\n",
        "    'train' : T.Compose([\n",
        "      T.RandomResizedCrop(size, scale = (0.5, 1.0)),\n",
        "      T.RandomHorizontalFlip(),\n",
        "      T.ColorJitter(brightness = 0.5, contrast = 0.5),\n",
        "      T.RandomAffine(degrees = 20, translate = (0.2, 0.2), shear=(-20,20)),\n",
        "      T.ToTensor(),\n",
        "      T.Normalize(mean, std)\n",
        "    ]),\n",
        "    'test' : T.Compose([\n",
        "        T.Resize(256),\n",
        "        T.CenterCrop(size),\n",
        "        T.ToTensor(),\n",
        "        T.Normalize(mean, std)\n",
        "    ])\n",
        "}"
      ]
    },
    {
      "cell_type": "code",
      "execution_count": 4,
      "metadata": {
        "id": "V3pgSHcCH9Zl"
      },
      "outputs": [],
      "source": [
        "class FocalLoss(nn.Module):\n",
        "    def __init__(self, alpha=1, gamma=2, reduction='mean'):\n",
        "        super(FocalLoss, self).__init__()\n",
        "        self.alpha = alpha\n",
        "        self.gamma = gamma\n",
        "        self.reduction = reduction\n",
        "\n",
        "    def forward(self, inputs, targets):\n",
        "        ce_loss = nn.CrossEntropyLoss(reduction='none')(inputs, targets)\n",
        "        pt = torch.exp(-ce_loss)\n",
        "        focal_loss = self.alpha * (1 - pt) ** self.gamma * ce_loss\n",
        "\n",
        "        if self.reduction == 'mean':\n",
        "            return focal_loss.mean()\n",
        "        elif self.reduction == 'sum':\n",
        "            return focal_loss.sum()\n",
        "        else:\n",
        "            return focal_loss"
      ]
    },
    {
      "cell_type": "code",
      "execution_count": null,
      "metadata": {
        "id": "vKCt0Sz3ZpZ_"
      },
      "outputs": [],
      "source": [
        "# import torch\n",
        "# import torch.nn as nn\n",
        "# import torch.nn.functional as F\n",
        "# from torch.autograd import Variable\n",
        "\n",
        "# class FocalLoss(nn.Module):\n",
        "#     def __init__(self, gamma=2, size_average=False):\n",
        "#         super(FocalLoss, self).__init__()\n",
        "#         self.gamma = gamma\n",
        "#         self.size_average = size_average\n",
        "\n",
        "#     def forward(self, input, target):\n",
        "#         if input.dim()>2:\n",
        "#             input = input.view(input.size(0),input.size(1),-1)  # N,C,H,W => N,C,H*W\n",
        "#             input = input.transpose(1,2)    # N,C,H*W => N,H*W,C\n",
        "#             input = input.contiguous().view(-1,input.size(2))   # N,H*W,C => N*H*W,C\n",
        "#         target = target.view(-1,1)\n",
        "\n",
        "#         logpt = F.log_softmax(input)\n",
        "#         logpt = logpt.gather(1,target)\n",
        "#         logpt = logpt.view(-1)\n",
        "#         pt = logpt.exp()\n",
        "\n",
        "#         loss = -1 * (1-pt)**self.gamma * logpt\n",
        "#         if self.size_average: return loss.mean()\n",
        "#         else: return loss.sum()"
      ]
    },
    {
      "cell_type": "code",
      "execution_count": null,
      "metadata": {
        "id": "zT-u4nZ6G2IH"
      },
      "outputs": [],
      "source": [
        "# resnet18 = models.resnet18(pretrained = True).to(device)\n",
        "# in_features = resnet18.fc.in_features\n",
        "# resnet18.fc = nn.Sequential(nn.Linear(in_features,10)).to(device)"
      ]
    },
    {
      "cell_type": "code",
      "execution_count": 5,
      "metadata": {
        "id": "BQWsf2-b_QJx"
      },
      "outputs": [],
      "source": [
        "if torch.cuda.is_available():\n",
        "  device = torch.device('cuda')\n",
        "else:\n",
        "  device = torch.device('cpu')"
      ]
    },
    {
      "cell_type": "code",
      "execution_count": 6,
      "metadata": {
        "id": "7sGNUpqN9Nhx"
      },
      "outputs": [],
      "source": [
        "from tqdm import tqdm\n",
        "import time"
      ]
    },
    {
      "cell_type": "code",
      "execution_count": 8,
      "metadata": {
        "id": "Vn1Q72x49yDR"
      },
      "outputs": [],
      "source": [
        "def train():\n",
        "  # num_epochs = 10\n",
        "  # for epoch in range(num_epochs):\n",
        "  model.train()\n",
        "  running_loss = 0.0\n",
        "\n",
        "  with tqdm(total=len(trainloader), desc=f'Epoch {epoch+1}/{total_epoch}', unit='batch') as progress_bar:\n",
        "      for i, (inputs, labels) in enumerate(trainloader):\n",
        "          inputs = inputs.to(device)\n",
        "          labels = labels.to(device)\n",
        "\n",
        "          optimizer.zero_grad()\n",
        "          outputs = model(inputs)\n",
        "          loss = criterion(outputs, labels)\n",
        "          loss.backward()\n",
        "          optimizer.step()\n",
        "\n",
        "          running_loss += loss.item()\n",
        "          progress_bar.set_postfix(loss=running_loss / (i + 1))\n",
        "          progress_bar.update()\n",
        "\n",
        "def test():\n",
        "  model.eval()\n",
        "  correct = 0\n",
        "  total = 0\n",
        "\n",
        "  with tqdm(total=len(testloader), desc='Testing', unit='batch') as progress_bar:\n",
        "      for inputs, labels in testloader:\n",
        "          inputs = inputs.to(device)\n",
        "          labels = labels.to(device)\n",
        "\n",
        "          outputs = model(inputs)\n",
        "          _, predicted = torch.max(outputs.data, 1)\n",
        "          total += labels.size(0)\n",
        "          correct += (predicted == labels).sum().item()\n",
        "\n",
        "          progress_bar.update()\n",
        "\n",
        "  print(f'Accuracy about 10000 test images : accuracy = {100 * correct / total}')"
      ]
    },
    {
      "cell_type": "code",
      "execution_count": 9,
      "metadata": {
        "colab": {
          "base_uri": "https://localhost:8080/"
        },
        "id": "VjrfgW63y7JL",
        "outputId": "4ff6b71b-1a92-4d94-d962-ac244aa028c6"
      },
      "outputs": [
        {
          "name": "stdout",
          "output_type": "stream",
          "text": [
            "Files already downloaded and verified\n",
            "Files already downloaded and verified\n"
          ]
        },
        {
          "name": "stderr",
          "output_type": "stream",
          "text": [
            "Epoch 1/50: 100%|██████████| 391/391 [01:18<00:00,  4.98batch/s, loss=1.7] \n",
            "Testing: 100%|██████████| 79/79 [00:06<00:00, 11.45batch/s]\n"
          ]
        },
        {
          "name": "stdout",
          "output_type": "stream",
          "text": [
            "Accuracy about 10000 test images : accuracy = 29.91\n"
          ]
        },
        {
          "name": "stderr",
          "output_type": "stream",
          "text": [
            "Epoch 2/50: 100%|██████████| 391/391 [01:18<00:00,  4.98batch/s, loss=1.32]\n",
            "Testing: 100%|██████████| 79/79 [00:06<00:00, 11.94batch/s]\n"
          ]
        },
        {
          "name": "stdout",
          "output_type": "stream",
          "text": [
            "Accuracy about 10000 test images : accuracy = 39.78\n"
          ]
        },
        {
          "name": "stderr",
          "output_type": "stream",
          "text": [
            "Epoch 3/50: 100%|██████████| 391/391 [01:17<00:00,  5.06batch/s, loss=1.08]\n",
            "Testing: 100%|██████████| 79/79 [00:06<00:00, 11.42batch/s]\n"
          ]
        },
        {
          "name": "stdout",
          "output_type": "stream",
          "text": [
            "Accuracy about 10000 test images : accuracy = 51.42\n"
          ]
        },
        {
          "name": "stderr",
          "output_type": "stream",
          "text": [
            "Epoch 4/50: 100%|██████████| 391/391 [01:18<00:00,  4.97batch/s, loss=0.89] \n",
            "Testing: 100%|██████████| 79/79 [00:06<00:00, 11.37batch/s]\n"
          ]
        },
        {
          "name": "stdout",
          "output_type": "stream",
          "text": [
            "Accuracy about 10000 test images : accuracy = 59.47\n"
          ]
        },
        {
          "name": "stderr",
          "output_type": "stream",
          "text": [
            "Epoch 5/50: 100%|██████████| 391/391 [01:18<00:00,  4.95batch/s, loss=0.777]\n",
            "Testing: 100%|██████████| 79/79 [00:07<00:00, 10.96batch/s]\n"
          ]
        },
        {
          "name": "stdout",
          "output_type": "stream",
          "text": [
            "Accuracy about 10000 test images : accuracy = 64.01\n"
          ]
        },
        {
          "name": "stderr",
          "output_type": "stream",
          "text": [
            "Epoch 6/50: 100%|██████████| 391/391 [01:19<00:00,  4.90batch/s, loss=0.695]\n",
            "Testing: 100%|██████████| 79/79 [00:06<00:00, 11.56batch/s]\n"
          ]
        },
        {
          "name": "stdout",
          "output_type": "stream",
          "text": [
            "Accuracy about 10000 test images : accuracy = 66.32\n"
          ]
        },
        {
          "name": "stderr",
          "output_type": "stream",
          "text": [
            "Epoch 7/50: 100%|██████████| 391/391 [01:18<00:00,  4.96batch/s, loss=0.632]\n",
            "Testing: 100%|██████████| 79/79 [00:06<00:00, 11.58batch/s]\n"
          ]
        },
        {
          "name": "stdout",
          "output_type": "stream",
          "text": [
            "Accuracy about 10000 test images : accuracy = 69.12\n"
          ]
        },
        {
          "name": "stderr",
          "output_type": "stream",
          "text": [
            "Epoch 8/50: 100%|██████████| 391/391 [01:18<00:00,  4.98batch/s, loss=0.569]\n",
            "Testing: 100%|██████████| 79/79 [00:06<00:00, 11.31batch/s]\n"
          ]
        },
        {
          "name": "stdout",
          "output_type": "stream",
          "text": [
            "Accuracy about 10000 test images : accuracy = 71.24\n"
          ]
        },
        {
          "name": "stderr",
          "output_type": "stream",
          "text": [
            "Epoch 9/50: 100%|██████████| 391/391 [01:19<00:00,  4.93batch/s, loss=0.539]\n",
            "Testing: 100%|██████████| 79/79 [00:06<00:00, 12.18batch/s]\n"
          ]
        },
        {
          "name": "stdout",
          "output_type": "stream",
          "text": [
            "Accuracy about 10000 test images : accuracy = 74.77\n"
          ]
        },
        {
          "name": "stderr",
          "output_type": "stream",
          "text": [
            "Epoch 10/50: 100%|██████████| 391/391 [01:18<00:00,  4.98batch/s, loss=0.509]\n",
            "Testing: 100%|██████████| 79/79 [00:06<00:00, 11.42batch/s]\n"
          ]
        },
        {
          "name": "stdout",
          "output_type": "stream",
          "text": [
            "Accuracy about 10000 test images : accuracy = 76.61\n"
          ]
        },
        {
          "name": "stderr",
          "output_type": "stream",
          "text": [
            "Epoch 11/50: 100%|██████████| 391/391 [01:18<00:00,  4.95batch/s, loss=0.478]\n",
            "Testing: 100%|██████████| 79/79 [00:06<00:00, 11.52batch/s]\n"
          ]
        },
        {
          "name": "stdout",
          "output_type": "stream",
          "text": [
            "Accuracy about 10000 test images : accuracy = 77.52\n"
          ]
        },
        {
          "name": "stderr",
          "output_type": "stream",
          "text": [
            "Epoch 12/50: 100%|██████████| 391/391 [01:17<00:00,  5.03batch/s, loss=0.452]\n",
            "Testing: 100%|██████████| 79/79 [00:06<00:00, 11.60batch/s]\n"
          ]
        },
        {
          "name": "stdout",
          "output_type": "stream",
          "text": [
            "Accuracy about 10000 test images : accuracy = 75.01\n"
          ]
        },
        {
          "name": "stderr",
          "output_type": "stream",
          "text": [
            "Epoch 13/50: 100%|██████████| 391/391 [01:19<00:00,  4.94batch/s, loss=0.431]\n",
            "Testing: 100%|██████████| 79/79 [00:07<00:00, 10.92batch/s]\n"
          ]
        },
        {
          "name": "stdout",
          "output_type": "stream",
          "text": [
            "Accuracy about 10000 test images : accuracy = 79.68\n"
          ]
        },
        {
          "name": "stderr",
          "output_type": "stream",
          "text": [
            "Epoch 14/50: 100%|██████████| 391/391 [01:19<00:00,  4.90batch/s, loss=0.418]\n",
            "Testing: 100%|██████████| 79/79 [00:06<00:00, 11.56batch/s]\n"
          ]
        },
        {
          "name": "stdout",
          "output_type": "stream",
          "text": [
            "Accuracy about 10000 test images : accuracy = 80.73\n"
          ]
        },
        {
          "name": "stderr",
          "output_type": "stream",
          "text": [
            "Epoch 15/50: 100%|██████████| 391/391 [01:18<00:00,  4.96batch/s, loss=0.396]\n",
            "Testing: 100%|██████████| 79/79 [00:07<00:00, 11.28batch/s]\n"
          ]
        },
        {
          "name": "stdout",
          "output_type": "stream",
          "text": [
            "Accuracy about 10000 test images : accuracy = 79.83\n"
          ]
        },
        {
          "name": "stderr",
          "output_type": "stream",
          "text": [
            "Epoch 16/50: 100%|██████████| 391/391 [01:17<00:00,  5.02batch/s, loss=0.38] \n",
            "Testing: 100%|██████████| 79/79 [00:07<00:00, 11.09batch/s]\n"
          ]
        },
        {
          "name": "stdout",
          "output_type": "stream",
          "text": [
            "Accuracy about 10000 test images : accuracy = 81.31\n"
          ]
        },
        {
          "name": "stderr",
          "output_type": "stream",
          "text": [
            "Epoch 17/50: 100%|██████████| 391/391 [01:19<00:00,  4.95batch/s, loss=0.366]\n",
            "Testing: 100%|██████████| 79/79 [00:06<00:00, 11.49batch/s]\n"
          ]
        },
        {
          "name": "stdout",
          "output_type": "stream",
          "text": [
            "Accuracy about 10000 test images : accuracy = 80.42\n"
          ]
        },
        {
          "name": "stderr",
          "output_type": "stream",
          "text": [
            "Epoch 18/50: 100%|██████████| 391/391 [01:17<00:00,  5.02batch/s, loss=0.351]\n",
            "Testing: 100%|██████████| 79/79 [00:07<00:00, 11.00batch/s]\n"
          ]
        },
        {
          "name": "stdout",
          "output_type": "stream",
          "text": [
            "Accuracy about 10000 test images : accuracy = 82.67\n"
          ]
        },
        {
          "name": "stderr",
          "output_type": "stream",
          "text": [
            "Epoch 19/50: 100%|██████████| 391/391 [01:19<00:00,  4.89batch/s, loss=0.332]\n",
            "Testing: 100%|██████████| 79/79 [00:06<00:00, 11.43batch/s]\n"
          ]
        },
        {
          "name": "stdout",
          "output_type": "stream",
          "text": [
            "Accuracy about 10000 test images : accuracy = 83.23\n"
          ]
        },
        {
          "name": "stderr",
          "output_type": "stream",
          "text": [
            "Epoch 20/50: 100%|██████████| 391/391 [01:18<00:00,  4.98batch/s, loss=0.325]\n",
            "Testing: 100%|██████████| 79/79 [00:06<00:00, 11.73batch/s]\n"
          ]
        },
        {
          "name": "stdout",
          "output_type": "stream",
          "text": [
            "Accuracy about 10000 test images : accuracy = 83.66\n"
          ]
        },
        {
          "name": "stderr",
          "output_type": "stream",
          "text": [
            "Epoch 21/50: 100%|██████████| 391/391 [01:19<00:00,  4.93batch/s, loss=0.323]\n",
            "Testing: 100%|██████████| 79/79 [00:06<00:00, 11.70batch/s]\n"
          ]
        },
        {
          "name": "stdout",
          "output_type": "stream",
          "text": [
            "Accuracy about 10000 test images : accuracy = 83.5\n"
          ]
        },
        {
          "name": "stderr",
          "output_type": "stream",
          "text": [
            "Epoch 22/50: 100%|██████████| 391/391 [01:17<00:00,  5.06batch/s, loss=0.308]\n",
            "Testing: 100%|██████████| 79/79 [00:06<00:00, 11.36batch/s]\n"
          ]
        },
        {
          "name": "stdout",
          "output_type": "stream",
          "text": [
            "Accuracy about 10000 test images : accuracy = 85.71\n"
          ]
        },
        {
          "name": "stderr",
          "output_type": "stream",
          "text": [
            "Epoch 23/50: 100%|██████████| 391/391 [01:18<00:00,  4.96batch/s, loss=0.302]\n",
            "Testing: 100%|██████████| 79/79 [00:06<00:00, 11.88batch/s]\n"
          ]
        },
        {
          "name": "stdout",
          "output_type": "stream",
          "text": [
            "Accuracy about 10000 test images : accuracy = 84.04\n"
          ]
        },
        {
          "name": "stderr",
          "output_type": "stream",
          "text": [
            "Epoch 24/50: 100%|██████████| 391/391 [01:18<00:00,  5.00batch/s, loss=0.293]\n",
            "Testing: 100%|██████████| 79/79 [00:06<00:00, 11.44batch/s]\n"
          ]
        },
        {
          "name": "stdout",
          "output_type": "stream",
          "text": [
            "Accuracy about 10000 test images : accuracy = 85.15\n"
          ]
        },
        {
          "name": "stderr",
          "output_type": "stream",
          "text": [
            "Epoch 25/50: 100%|██████████| 391/391 [01:17<00:00,  5.07batch/s, loss=0.285]\n",
            "Testing: 100%|██████████| 79/79 [00:06<00:00, 11.85batch/s]\n"
          ]
        },
        {
          "name": "stdout",
          "output_type": "stream",
          "text": [
            "Accuracy about 10000 test images : accuracy = 84.94\n"
          ]
        },
        {
          "name": "stderr",
          "output_type": "stream",
          "text": [
            "Epoch 26/50: 100%|██████████| 391/391 [01:20<00:00,  4.88batch/s, loss=0.275]\n",
            "Testing: 100%|██████████| 79/79 [00:07<00:00, 10.52batch/s]\n"
          ]
        },
        {
          "name": "stdout",
          "output_type": "stream",
          "text": [
            "Accuracy about 10000 test images : accuracy = 85.92\n"
          ]
        },
        {
          "name": "stderr",
          "output_type": "stream",
          "text": [
            "Epoch 27/50: 100%|██████████| 391/391 [01:17<00:00,  5.04batch/s, loss=0.273]\n",
            "Testing: 100%|██████████| 79/79 [00:06<00:00, 11.45batch/s]\n"
          ]
        },
        {
          "name": "stdout",
          "output_type": "stream",
          "text": [
            "Accuracy about 10000 test images : accuracy = 83.81\n"
          ]
        },
        {
          "name": "stderr",
          "output_type": "stream",
          "text": [
            "Epoch 28/50: 100%|██████████| 391/391 [01:19<00:00,  4.89batch/s, loss=0.261]\n",
            "Testing: 100%|██████████| 79/79 [00:06<00:00, 11.53batch/s]\n"
          ]
        },
        {
          "name": "stdout",
          "output_type": "stream",
          "text": [
            "Accuracy about 10000 test images : accuracy = 87.07\n"
          ]
        },
        {
          "name": "stderr",
          "output_type": "stream",
          "text": [
            "Epoch 29/50: 100%|██████████| 391/391 [01:19<00:00,  4.90batch/s, loss=0.254]\n",
            "Testing: 100%|██████████| 79/79 [00:07<00:00, 10.70batch/s]\n"
          ]
        },
        {
          "name": "stdout",
          "output_type": "stream",
          "text": [
            "Accuracy about 10000 test images : accuracy = 85.85\n"
          ]
        },
        {
          "name": "stderr",
          "output_type": "stream",
          "text": [
            "Epoch 30/50: 100%|██████████| 391/391 [01:17<00:00,  5.04batch/s, loss=0.253]\n",
            "Testing: 100%|██████████| 79/79 [00:06<00:00, 11.56batch/s]\n"
          ]
        },
        {
          "name": "stdout",
          "output_type": "stream",
          "text": [
            "Accuracy about 10000 test images : accuracy = 87.16\n"
          ]
        },
        {
          "name": "stderr",
          "output_type": "stream",
          "text": [
            "Epoch 31/50: 100%|██████████| 391/391 [01:18<00:00,  4.98batch/s, loss=0.205]\n",
            "Testing: 100%|██████████| 79/79 [00:06<00:00, 11.55batch/s]\n"
          ]
        },
        {
          "name": "stdout",
          "output_type": "stream",
          "text": [
            "Accuracy about 10000 test images : accuracy = 89.56\n"
          ]
        },
        {
          "name": "stderr",
          "output_type": "stream",
          "text": [
            "Epoch 32/50: 100%|██████████| 391/391 [01:18<00:00,  4.97batch/s, loss=0.185]\n",
            "Testing: 100%|██████████| 79/79 [00:06<00:00, 11.30batch/s]\n"
          ]
        },
        {
          "name": "stdout",
          "output_type": "stream",
          "text": [
            "Accuracy about 10000 test images : accuracy = 89.74\n"
          ]
        },
        {
          "name": "stderr",
          "output_type": "stream",
          "text": [
            "Epoch 33/50: 100%|██████████| 391/391 [01:18<00:00,  4.98batch/s, loss=0.177]\n",
            "Testing: 100%|██████████| 79/79 [00:06<00:00, 11.93batch/s]\n"
          ]
        },
        {
          "name": "stdout",
          "output_type": "stream",
          "text": [
            "Accuracy about 10000 test images : accuracy = 89.91\n"
          ]
        },
        {
          "name": "stderr",
          "output_type": "stream",
          "text": [
            "Epoch 34/50: 100%|██████████| 391/391 [01:17<00:00,  5.02batch/s, loss=0.172]\n",
            "Testing: 100%|██████████| 79/79 [00:06<00:00, 11.51batch/s]\n"
          ]
        },
        {
          "name": "stdout",
          "output_type": "stream",
          "text": [
            "Accuracy about 10000 test images : accuracy = 89.98\n"
          ]
        },
        {
          "name": "stderr",
          "output_type": "stream",
          "text": [
            "Epoch 35/50: 100%|██████████| 391/391 [01:17<00:00,  5.03batch/s, loss=0.172]\n",
            "Testing: 100%|██████████| 79/79 [00:07<00:00, 10.96batch/s]\n"
          ]
        },
        {
          "name": "stdout",
          "output_type": "stream",
          "text": [
            "Accuracy about 10000 test images : accuracy = 90.23\n"
          ]
        },
        {
          "name": "stderr",
          "output_type": "stream",
          "text": [
            "Epoch 36/50: 100%|██████████| 391/391 [01:18<00:00,  4.98batch/s, loss=0.168]\n",
            "Testing: 100%|██████████| 79/79 [00:06<00:00, 11.38batch/s]\n"
          ]
        },
        {
          "name": "stdout",
          "output_type": "stream",
          "text": [
            "Accuracy about 10000 test images : accuracy = 90.3\n"
          ]
        },
        {
          "name": "stderr",
          "output_type": "stream",
          "text": [
            "Epoch 37/50: 100%|██████████| 391/391 [01:19<00:00,  4.93batch/s, loss=0.164]\n",
            "Testing: 100%|██████████| 79/79 [00:06<00:00, 11.44batch/s]\n"
          ]
        },
        {
          "name": "stdout",
          "output_type": "stream",
          "text": [
            "Accuracy about 10000 test images : accuracy = 90.15\n"
          ]
        },
        {
          "name": "stderr",
          "output_type": "stream",
          "text": [
            "Epoch 38/50: 100%|██████████| 391/391 [01:18<00:00,  4.96batch/s, loss=0.163]\n",
            "Testing: 100%|██████████| 79/79 [00:07<00:00, 10.86batch/s]\n"
          ]
        },
        {
          "name": "stdout",
          "output_type": "stream",
          "text": [
            "Accuracy about 10000 test images : accuracy = 90.37\n"
          ]
        },
        {
          "name": "stderr",
          "output_type": "stream",
          "text": [
            "Epoch 39/50: 100%|██████████| 391/391 [01:19<00:00,  4.94batch/s, loss=0.163]\n",
            "Testing: 100%|██████████| 79/79 [00:06<00:00, 11.64batch/s]\n"
          ]
        },
        {
          "name": "stdout",
          "output_type": "stream",
          "text": [
            "Accuracy about 10000 test images : accuracy = 90.23\n"
          ]
        },
        {
          "name": "stderr",
          "output_type": "stream",
          "text": [
            "Epoch 40/50: 100%|██████████| 391/391 [01:17<00:00,  5.02batch/s, loss=0.161]\n",
            "Testing: 100%|██████████| 79/79 [00:06<00:00, 11.89batch/s]\n"
          ]
        },
        {
          "name": "stdout",
          "output_type": "stream",
          "text": [
            "Accuracy about 10000 test images : accuracy = 90.52\n"
          ]
        },
        {
          "name": "stderr",
          "output_type": "stream",
          "text": [
            "Epoch 41/50: 100%|██████████| 391/391 [01:17<00:00,  5.05batch/s, loss=0.157]\n",
            "Testing: 100%|██████████| 79/79 [00:07<00:00, 11.23batch/s]\n"
          ]
        },
        {
          "name": "stdout",
          "output_type": "stream",
          "text": [
            "Accuracy about 10000 test images : accuracy = 90.42\n"
          ]
        },
        {
          "name": "stderr",
          "output_type": "stream",
          "text": [
            "Epoch 42/50: 100%|██████████| 391/391 [01:18<00:00,  4.98batch/s, loss=0.156]\n",
            "Testing: 100%|██████████| 79/79 [00:06<00:00, 11.84batch/s]\n"
          ]
        },
        {
          "name": "stdout",
          "output_type": "stream",
          "text": [
            "Accuracy about 10000 test images : accuracy = 90.68\n"
          ]
        },
        {
          "name": "stderr",
          "output_type": "stream",
          "text": [
            "Epoch 43/50: 100%|██████████| 391/391 [01:16<00:00,  5.09batch/s, loss=0.152]\n",
            "Testing: 100%|██████████| 79/79 [00:06<00:00, 11.45batch/s]\n"
          ]
        },
        {
          "name": "stdout",
          "output_type": "stream",
          "text": [
            "Accuracy about 10000 test images : accuracy = 90.63\n"
          ]
        },
        {
          "name": "stderr",
          "output_type": "stream",
          "text": [
            "Epoch 44/50: 100%|██████████| 391/391 [01:18<00:00,  4.96batch/s, loss=0.153]\n",
            "Testing: 100%|██████████| 79/79 [00:06<00:00, 11.81batch/s]\n"
          ]
        },
        {
          "name": "stdout",
          "output_type": "stream",
          "text": [
            "Accuracy about 10000 test images : accuracy = 90.84\n"
          ]
        },
        {
          "name": "stderr",
          "output_type": "stream",
          "text": [
            "Epoch 45/50: 100%|██████████| 391/391 [01:18<00:00,  4.97batch/s, loss=0.149]\n",
            "Testing: 100%|██████████| 79/79 [00:06<00:00, 11.57batch/s]\n"
          ]
        },
        {
          "name": "stdout",
          "output_type": "stream",
          "text": [
            "Accuracy about 10000 test images : accuracy = 90.73\n"
          ]
        },
        {
          "name": "stderr",
          "output_type": "stream",
          "text": [
            "Epoch 46/50: 100%|██████████| 391/391 [01:19<00:00,  4.94batch/s, loss=0.148]\n",
            "Testing: 100%|██████████| 79/79 [00:06<00:00, 11.61batch/s]\n"
          ]
        },
        {
          "name": "stdout",
          "output_type": "stream",
          "text": [
            "Accuracy about 10000 test images : accuracy = 90.64\n"
          ]
        },
        {
          "name": "stderr",
          "output_type": "stream",
          "text": [
            "Epoch 47/50: 100%|██████████| 391/391 [01:17<00:00,  5.04batch/s, loss=0.149]\n",
            "Testing: 100%|██████████| 79/79 [00:06<00:00, 11.48batch/s]\n"
          ]
        },
        {
          "name": "stdout",
          "output_type": "stream",
          "text": [
            "Accuracy about 10000 test images : accuracy = 90.97\n"
          ]
        },
        {
          "name": "stderr",
          "output_type": "stream",
          "text": [
            "Epoch 48/50: 100%|██████████| 391/391 [01:20<00:00,  4.87batch/s, loss=0.146]\n",
            "Testing: 100%|██████████| 79/79 [00:06<00:00, 11.75batch/s]\n"
          ]
        },
        {
          "name": "stdout",
          "output_type": "stream",
          "text": [
            "Accuracy about 10000 test images : accuracy = 90.81\n"
          ]
        },
        {
          "name": "stderr",
          "output_type": "stream",
          "text": [
            "Epoch 49/50: 100%|██████████| 391/391 [01:18<00:00,  5.01batch/s, loss=0.148]\n",
            "Testing: 100%|██████████| 79/79 [00:06<00:00, 11.43batch/s]\n"
          ]
        },
        {
          "name": "stdout",
          "output_type": "stream",
          "text": [
            "Accuracy about 10000 test images : accuracy = 90.99\n"
          ]
        },
        {
          "name": "stderr",
          "output_type": "stream",
          "text": [
            "Epoch 50/50: 100%|██████████| 391/391 [01:18<00:00,  4.96batch/s, loss=0.145]\n",
            "Testing: 100%|██████████| 79/79 [00:07<00:00, 10.89batch/s]\n"
          ]
        },
        {
          "name": "stdout",
          "output_type": "stream",
          "text": [
            "Accuracy about 10000 test images : accuracy = 90.92\n",
            "Finished Training\n",
            "Files already downloaded and verified\n",
            "Files already downloaded and verified\n"
          ]
        },
        {
          "name": "stderr",
          "output_type": "stream",
          "text": [
            "Epoch 1/50: 100%|██████████| 391/391 [01:19<00:00,  4.94batch/s, loss=1.63]\n",
            "Testing: 100%|██████████| 79/79 [00:07<00:00, 10.30batch/s]\n"
          ]
        },
        {
          "name": "stdout",
          "output_type": "stream",
          "text": [
            "Accuracy about 10000 test images : accuracy = 29.05\n"
          ]
        },
        {
          "name": "stderr",
          "output_type": "stream",
          "text": [
            "Epoch 2/50: 100%|██████████| 391/391 [01:18<00:00,  5.00batch/s, loss=1.29]\n",
            "Testing: 100%|██████████| 79/79 [00:06<00:00, 11.75batch/s]\n"
          ]
        },
        {
          "name": "stdout",
          "output_type": "stream",
          "text": [
            "Accuracy about 10000 test images : accuracy = 38.81\n"
          ]
        },
        {
          "name": "stderr",
          "output_type": "stream",
          "text": [
            "Epoch 3/50: 100%|██████████| 391/391 [01:19<00:00,  4.91batch/s, loss=1.16]\n",
            "Testing: 100%|██████████| 79/79 [00:06<00:00, 11.70batch/s]\n"
          ]
        },
        {
          "name": "stdout",
          "output_type": "stream",
          "text": [
            "Accuracy about 10000 test images : accuracy = 19.3\n"
          ]
        },
        {
          "name": "stderr",
          "output_type": "stream",
          "text": [
            "Epoch 4/50: 100%|██████████| 391/391 [01:19<00:00,  4.91batch/s, loss=1.02]\n",
            "Testing: 100%|██████████| 79/79 [00:07<00:00, 11.14batch/s]\n"
          ]
        },
        {
          "name": "stdout",
          "output_type": "stream",
          "text": [
            "Accuracy about 10000 test images : accuracy = 37.1\n"
          ]
        },
        {
          "name": "stderr",
          "output_type": "stream",
          "text": [
            "Epoch 5/50: 100%|██████████| 391/391 [01:18<00:00,  5.01batch/s, loss=0.886]\n",
            "Testing: 100%|██████████| 79/79 [00:07<00:00, 11.16batch/s]\n"
          ]
        },
        {
          "name": "stdout",
          "output_type": "stream",
          "text": [
            "Accuracy about 10000 test images : accuracy = 56.89\n"
          ]
        },
        {
          "name": "stderr",
          "output_type": "stream",
          "text": [
            "Epoch 6/50: 100%|██████████| 391/391 [01:19<00:00,  4.91batch/s, loss=0.767]\n",
            "Testing: 100%|██████████| 79/79 [00:06<00:00, 11.37batch/s]\n"
          ]
        },
        {
          "name": "stdout",
          "output_type": "stream",
          "text": [
            "Accuracy about 10000 test images : accuracy = 62.34\n"
          ]
        },
        {
          "name": "stderr",
          "output_type": "stream",
          "text": [
            "Epoch 7/50: 100%|██████████| 391/391 [01:18<00:00,  4.99batch/s, loss=0.69] \n",
            "Testing: 100%|██████████| 79/79 [00:07<00:00, 10.81batch/s]\n"
          ]
        },
        {
          "name": "stdout",
          "output_type": "stream",
          "text": [
            "Accuracy about 10000 test images : accuracy = 67.29\n"
          ]
        },
        {
          "name": "stderr",
          "output_type": "stream",
          "text": [
            "Epoch 8/50: 100%|██████████| 391/391 [01:20<00:00,  4.88batch/s, loss=0.617]\n",
            "Testing: 100%|██████████| 79/79 [00:06<00:00, 11.63batch/s]\n"
          ]
        },
        {
          "name": "stdout",
          "output_type": "stream",
          "text": [
            "Accuracy about 10000 test images : accuracy = 61.81\n"
          ]
        },
        {
          "name": "stderr",
          "output_type": "stream",
          "text": [
            "Epoch 9/50: 100%|██████████| 391/391 [01:19<00:00,  4.93batch/s, loss=0.579]\n",
            "Testing: 100%|██████████| 79/79 [00:07<00:00, 11.25batch/s]\n"
          ]
        },
        {
          "name": "stdout",
          "output_type": "stream",
          "text": [
            "Accuracy about 10000 test images : accuracy = 72.82\n"
          ]
        },
        {
          "name": "stderr",
          "output_type": "stream",
          "text": [
            "Epoch 10/50: 100%|██████████| 391/391 [01:18<00:00,  4.99batch/s, loss=0.537]\n",
            "Testing: 100%|██████████| 79/79 [00:07<00:00, 10.25batch/s]\n"
          ]
        },
        {
          "name": "stdout",
          "output_type": "stream",
          "text": [
            "Accuracy about 10000 test images : accuracy = 73.91\n"
          ]
        },
        {
          "name": "stderr",
          "output_type": "stream",
          "text": [
            "Epoch 11/50: 100%|██████████| 391/391 [01:17<00:00,  5.07batch/s, loss=0.506]\n",
            "Testing: 100%|██████████| 79/79 [00:07<00:00, 11.18batch/s]\n"
          ]
        },
        {
          "name": "stdout",
          "output_type": "stream",
          "text": [
            "Accuracy about 10000 test images : accuracy = 77.16\n"
          ]
        },
        {
          "name": "stderr",
          "output_type": "stream",
          "text": [
            "Epoch 12/50: 100%|██████████| 391/391 [01:19<00:00,  4.93batch/s, loss=0.476]\n",
            "Testing: 100%|██████████| 79/79 [00:06<00:00, 11.58batch/s]\n"
          ]
        },
        {
          "name": "stdout",
          "output_type": "stream",
          "text": [
            "Accuracy about 10000 test images : accuracy = 78.07\n"
          ]
        },
        {
          "name": "stderr",
          "output_type": "stream",
          "text": [
            "Epoch 13/50: 100%|██████████| 391/391 [01:18<00:00,  4.98batch/s, loss=0.46] \n",
            "Testing: 100%|██████████| 79/79 [00:06<00:00, 11.44batch/s]\n"
          ]
        },
        {
          "name": "stdout",
          "output_type": "stream",
          "text": [
            "Accuracy about 10000 test images : accuracy = 78.59\n"
          ]
        },
        {
          "name": "stderr",
          "output_type": "stream",
          "text": [
            "Epoch 14/50: 100%|██████████| 391/391 [01:20<00:00,  4.87batch/s, loss=0.439]\n",
            "Testing: 100%|██████████| 79/79 [00:06<00:00, 11.36batch/s]\n"
          ]
        },
        {
          "name": "stdout",
          "output_type": "stream",
          "text": [
            "Accuracy about 10000 test images : accuracy = 77.57\n"
          ]
        },
        {
          "name": "stderr",
          "output_type": "stream",
          "text": [
            "Epoch 15/50: 100%|██████████| 391/391 [01:19<00:00,  4.91batch/s, loss=0.429]\n",
            "Testing: 100%|██████████| 79/79 [00:07<00:00, 10.82batch/s]\n"
          ]
        },
        {
          "name": "stdout",
          "output_type": "stream",
          "text": [
            "Accuracy about 10000 test images : accuracy = 80.27\n"
          ]
        },
        {
          "name": "stderr",
          "output_type": "stream",
          "text": [
            "Epoch 16/50: 100%|██████████| 391/391 [01:19<00:00,  4.95batch/s, loss=0.405]\n",
            "Testing: 100%|██████████| 79/79 [00:07<00:00, 10.61batch/s]\n"
          ]
        },
        {
          "name": "stdout",
          "output_type": "stream",
          "text": [
            "Accuracy about 10000 test images : accuracy = 80.21\n"
          ]
        },
        {
          "name": "stderr",
          "output_type": "stream",
          "text": [
            "Epoch 17/50: 100%|██████████| 391/391 [01:17<00:00,  5.07batch/s, loss=0.391]\n",
            "Testing: 100%|██████████| 79/79 [00:07<00:00, 11.02batch/s]\n"
          ]
        },
        {
          "name": "stdout",
          "output_type": "stream",
          "text": [
            "Accuracy about 10000 test images : accuracy = 81.33\n"
          ]
        },
        {
          "name": "stderr",
          "output_type": "stream",
          "text": [
            "Epoch 18/50: 100%|██████████| 391/391 [01:18<00:00,  4.97batch/s, loss=0.378]\n",
            "Testing: 100%|██████████| 79/79 [00:07<00:00, 10.50batch/s]\n"
          ]
        },
        {
          "name": "stdout",
          "output_type": "stream",
          "text": [
            "Accuracy about 10000 test images : accuracy = 80.7\n"
          ]
        },
        {
          "name": "stderr",
          "output_type": "stream",
          "text": [
            "Epoch 19/50: 100%|██████████| 391/391 [01:17<00:00,  5.06batch/s, loss=0.362]\n",
            "Testing: 100%|██████████| 79/79 [00:07<00:00, 11.16batch/s]\n"
          ]
        },
        {
          "name": "stdout",
          "output_type": "stream",
          "text": [
            "Accuracy about 10000 test images : accuracy = 81.56\n"
          ]
        },
        {
          "name": "stderr",
          "output_type": "stream",
          "text": [
            "Epoch 20/50: 100%|██████████| 391/391 [01:18<00:00,  4.99batch/s, loss=0.356]\n",
            "Testing: 100%|██████████| 79/79 [00:07<00:00, 11.17batch/s]\n"
          ]
        },
        {
          "name": "stdout",
          "output_type": "stream",
          "text": [
            "Accuracy about 10000 test images : accuracy = 80.69\n"
          ]
        },
        {
          "name": "stderr",
          "output_type": "stream",
          "text": [
            "Epoch 21/50: 100%|██████████| 391/391 [01:18<00:00,  4.96batch/s, loss=0.341]\n",
            "Testing: 100%|██████████| 79/79 [00:07<00:00, 10.77batch/s]\n"
          ]
        },
        {
          "name": "stdout",
          "output_type": "stream",
          "text": [
            "Accuracy about 10000 test images : accuracy = 82.65\n"
          ]
        },
        {
          "name": "stderr",
          "output_type": "stream",
          "text": [
            "Epoch 22/50: 100%|██████████| 391/391 [01:18<00:00,  4.99batch/s, loss=0.329]\n",
            "Testing: 100%|██████████| 79/79 [00:06<00:00, 11.52batch/s]\n"
          ]
        },
        {
          "name": "stdout",
          "output_type": "stream",
          "text": [
            "Accuracy about 10000 test images : accuracy = 84.56\n"
          ]
        },
        {
          "name": "stderr",
          "output_type": "stream",
          "text": [
            "Epoch 23/50: 100%|██████████| 391/391 [01:19<00:00,  4.95batch/s, loss=0.32] \n",
            "Testing: 100%|██████████| 79/79 [00:06<00:00, 11.34batch/s]\n"
          ]
        },
        {
          "name": "stdout",
          "output_type": "stream",
          "text": [
            "Accuracy about 10000 test images : accuracy = 82.22\n"
          ]
        },
        {
          "name": "stderr",
          "output_type": "stream",
          "text": [
            "Epoch 24/50: 100%|██████████| 391/391 [01:18<00:00,  4.99batch/s, loss=0.312]\n",
            "Testing: 100%|██████████| 79/79 [00:07<00:00, 10.88batch/s]\n"
          ]
        },
        {
          "name": "stdout",
          "output_type": "stream",
          "text": [
            "Accuracy about 10000 test images : accuracy = 84.36\n"
          ]
        },
        {
          "name": "stderr",
          "output_type": "stream",
          "text": [
            "Epoch 25/50: 100%|██████████| 391/391 [01:19<00:00,  4.94batch/s, loss=0.304]\n",
            "Testing: 100%|██████████| 79/79 [00:06<00:00, 11.59batch/s]\n"
          ]
        },
        {
          "name": "stdout",
          "output_type": "stream",
          "text": [
            "Accuracy about 10000 test images : accuracy = 84.2\n"
          ]
        },
        {
          "name": "stderr",
          "output_type": "stream",
          "text": [
            "Epoch 26/50: 100%|██████████| 391/391 [01:17<00:00,  5.07batch/s, loss=0.296]\n",
            "Testing: 100%|██████████| 79/79 [00:07<00:00, 11.25batch/s]\n"
          ]
        },
        {
          "name": "stdout",
          "output_type": "stream",
          "text": [
            "Accuracy about 10000 test images : accuracy = 85.38\n"
          ]
        },
        {
          "name": "stderr",
          "output_type": "stream",
          "text": [
            "Epoch 27/50: 100%|██████████| 391/391 [01:19<00:00,  4.93batch/s, loss=0.289]\n",
            "Testing: 100%|██████████| 79/79 [00:07<00:00, 11.15batch/s]\n"
          ]
        },
        {
          "name": "stdout",
          "output_type": "stream",
          "text": [
            "Accuracy about 10000 test images : accuracy = 84.11\n"
          ]
        },
        {
          "name": "stderr",
          "output_type": "stream",
          "text": [
            "Epoch 28/50: 100%|██████████| 391/391 [01:18<00:00,  4.98batch/s, loss=0.277]\n",
            "Testing: 100%|██████████| 79/79 [00:07<00:00, 10.82batch/s]\n"
          ]
        },
        {
          "name": "stdout",
          "output_type": "stream",
          "text": [
            "Accuracy about 10000 test images : accuracy = 85.95\n"
          ]
        },
        {
          "name": "stderr",
          "output_type": "stream",
          "text": [
            "Epoch 29/50: 100%|██████████| 391/391 [01:18<00:00,  4.95batch/s, loss=0.277]\n",
            "Testing: 100%|██████████| 79/79 [00:06<00:00, 11.66batch/s]\n"
          ]
        },
        {
          "name": "stdout",
          "output_type": "stream",
          "text": [
            "Accuracy about 10000 test images : accuracy = 84.47\n"
          ]
        },
        {
          "name": "stderr",
          "output_type": "stream",
          "text": [
            "Epoch 30/50: 100%|██████████| 391/391 [01:17<00:00,  5.05batch/s, loss=0.273]\n",
            "Testing: 100%|██████████| 79/79 [00:06<00:00, 11.75batch/s]\n"
          ]
        },
        {
          "name": "stdout",
          "output_type": "stream",
          "text": [
            "Accuracy about 10000 test images : accuracy = 86.28\n"
          ]
        },
        {
          "name": "stderr",
          "output_type": "stream",
          "text": [
            "Epoch 31/50: 100%|██████████| 391/391 [01:18<00:00,  4.99batch/s, loss=0.221]\n",
            "Testing: 100%|██████████| 79/79 [00:07<00:00, 10.12batch/s]\n"
          ]
        },
        {
          "name": "stdout",
          "output_type": "stream",
          "text": [
            "Accuracy about 10000 test images : accuracy = 88.47\n"
          ]
        },
        {
          "name": "stderr",
          "output_type": "stream",
          "text": [
            "Epoch 32/50: 100%|██████████| 391/391 [01:18<00:00,  4.99batch/s, loss=0.205]\n",
            "Testing: 100%|██████████| 79/79 [00:07<00:00, 11.21batch/s]\n"
          ]
        },
        {
          "name": "stdout",
          "output_type": "stream",
          "text": [
            "Accuracy about 10000 test images : accuracy = 88.51\n"
          ]
        },
        {
          "name": "stderr",
          "output_type": "stream",
          "text": [
            "Epoch 33/50: 100%|██████████| 391/391 [01:17<00:00,  5.03batch/s, loss=0.196]\n",
            "Testing: 100%|██████████| 79/79 [00:07<00:00, 10.41batch/s]\n"
          ]
        },
        {
          "name": "stdout",
          "output_type": "stream",
          "text": [
            "Accuracy about 10000 test images : accuracy = 88.83\n"
          ]
        },
        {
          "name": "stderr",
          "output_type": "stream",
          "text": [
            "Epoch 34/50: 100%|██████████| 391/391 [01:17<00:00,  5.06batch/s, loss=0.191]\n",
            "Testing: 100%|██████████| 79/79 [00:07<00:00, 11.11batch/s]\n"
          ]
        },
        {
          "name": "stdout",
          "output_type": "stream",
          "text": [
            "Accuracy about 10000 test images : accuracy = 88.84\n"
          ]
        },
        {
          "name": "stderr",
          "output_type": "stream",
          "text": [
            "Epoch 35/50: 100%|██████████| 391/391 [01:18<00:00,  4.99batch/s, loss=0.191]\n",
            "Testing: 100%|██████████| 79/79 [00:07<00:00, 10.34batch/s]\n"
          ]
        },
        {
          "name": "stdout",
          "output_type": "stream",
          "text": [
            "Accuracy about 10000 test images : accuracy = 89.18\n"
          ]
        },
        {
          "name": "stderr",
          "output_type": "stream",
          "text": [
            "Epoch 36/50: 100%|██████████| 391/391 [01:17<00:00,  5.02batch/s, loss=0.187]\n",
            "Testing: 100%|██████████| 79/79 [00:07<00:00, 10.89batch/s]\n"
          ]
        },
        {
          "name": "stdout",
          "output_type": "stream",
          "text": [
            "Accuracy about 10000 test images : accuracy = 89.19\n"
          ]
        },
        {
          "name": "stderr",
          "output_type": "stream",
          "text": [
            "Epoch 37/50: 100%|██████████| 391/391 [01:18<00:00,  4.96batch/s, loss=0.183]\n",
            "Testing: 100%|██████████| 79/79 [00:07<00:00, 11.04batch/s]\n"
          ]
        },
        {
          "name": "stdout",
          "output_type": "stream",
          "text": [
            "Accuracy about 10000 test images : accuracy = 89.24\n"
          ]
        },
        {
          "name": "stderr",
          "output_type": "stream",
          "text": [
            "Epoch 38/50: 100%|██████████| 391/391 [01:19<00:00,  4.94batch/s, loss=0.182]\n",
            "Testing: 100%|██████████| 79/79 [00:07<00:00,  9.93batch/s]\n"
          ]
        },
        {
          "name": "stdout",
          "output_type": "stream",
          "text": [
            "Accuracy about 10000 test images : accuracy = 89.52\n"
          ]
        },
        {
          "name": "stderr",
          "output_type": "stream",
          "text": [
            "Epoch 39/50: 100%|██████████| 391/391 [01:20<00:00,  4.85batch/s, loss=0.179]\n",
            "Testing: 100%|██████████| 79/79 [00:07<00:00, 10.66batch/s]\n"
          ]
        },
        {
          "name": "stdout",
          "output_type": "stream",
          "text": [
            "Accuracy about 10000 test images : accuracy = 89.44\n"
          ]
        },
        {
          "name": "stderr",
          "output_type": "stream",
          "text": [
            "Epoch 40/50: 100%|██████████| 391/391 [01:19<00:00,  4.89batch/s, loss=0.177]\n",
            "Testing: 100%|██████████| 79/79 [00:07<00:00, 11.02batch/s]\n"
          ]
        },
        {
          "name": "stdout",
          "output_type": "stream",
          "text": [
            "Accuracy about 10000 test images : accuracy = 89.33\n"
          ]
        },
        {
          "name": "stderr",
          "output_type": "stream",
          "text": [
            "Epoch 41/50: 100%|██████████| 391/391 [01:19<00:00,  4.90batch/s, loss=0.174]\n",
            "Testing: 100%|██████████| 79/79 [00:07<00:00, 10.93batch/s]\n"
          ]
        },
        {
          "name": "stdout",
          "output_type": "stream",
          "text": [
            "Accuracy about 10000 test images : accuracy = 89.49\n"
          ]
        },
        {
          "name": "stderr",
          "output_type": "stream",
          "text": [
            "Epoch 42/50: 100%|██████████| 391/391 [01:19<00:00,  4.93batch/s, loss=0.173]\n",
            "Testing: 100%|██████████| 79/79 [00:06<00:00, 11.37batch/s]\n"
          ]
        },
        {
          "name": "stdout",
          "output_type": "stream",
          "text": [
            "Accuracy about 10000 test images : accuracy = 89.42\n"
          ]
        },
        {
          "name": "stderr",
          "output_type": "stream",
          "text": [
            "Epoch 43/50: 100%|██████████| 391/391 [01:18<00:00,  4.97batch/s, loss=0.169]\n",
            "Testing: 100%|██████████| 79/79 [00:07<00:00, 10.44batch/s]\n"
          ]
        },
        {
          "name": "stdout",
          "output_type": "stream",
          "text": [
            "Accuracy about 10000 test images : accuracy = 89.8\n"
          ]
        },
        {
          "name": "stderr",
          "output_type": "stream",
          "text": [
            "Epoch 44/50: 100%|██████████| 391/391 [01:19<00:00,  4.90batch/s, loss=0.171]\n",
            "Testing: 100%|██████████| 79/79 [00:07<00:00, 10.44batch/s]\n"
          ]
        },
        {
          "name": "stdout",
          "output_type": "stream",
          "text": [
            "Accuracy about 10000 test images : accuracy = 89.82\n"
          ]
        },
        {
          "name": "stderr",
          "output_type": "stream",
          "text": [
            "Epoch 45/50: 100%|██████████| 391/391 [01:19<00:00,  4.91batch/s, loss=0.169]\n",
            "Testing: 100%|██████████| 79/79 [00:07<00:00, 10.63batch/s]\n"
          ]
        },
        {
          "name": "stdout",
          "output_type": "stream",
          "text": [
            "Accuracy about 10000 test images : accuracy = 89.94\n"
          ]
        },
        {
          "name": "stderr",
          "output_type": "stream",
          "text": [
            "Epoch 46/50: 100%|██████████| 391/391 [01:18<00:00,  4.95batch/s, loss=0.168]\n",
            "Testing: 100%|██████████| 79/79 [00:06<00:00, 11.48batch/s]\n"
          ]
        },
        {
          "name": "stdout",
          "output_type": "stream",
          "text": [
            "Accuracy about 10000 test images : accuracy = 89.72\n"
          ]
        },
        {
          "name": "stderr",
          "output_type": "stream",
          "text": [
            "Epoch 47/50: 100%|██████████| 391/391 [01:20<00:00,  4.88batch/s, loss=0.167]\n",
            "Testing: 100%|██████████| 79/79 [00:07<00:00, 10.88batch/s]\n"
          ]
        },
        {
          "name": "stdout",
          "output_type": "stream",
          "text": [
            "Accuracy about 10000 test images : accuracy = 89.81\n"
          ]
        },
        {
          "name": "stderr",
          "output_type": "stream",
          "text": [
            "Epoch 48/50: 100%|██████████| 391/391 [01:20<00:00,  4.85batch/s, loss=0.163]\n",
            "Testing: 100%|██████████| 79/79 [00:07<00:00, 10.42batch/s]\n"
          ]
        },
        {
          "name": "stdout",
          "output_type": "stream",
          "text": [
            "Accuracy about 10000 test images : accuracy = 89.79\n"
          ]
        },
        {
          "name": "stderr",
          "output_type": "stream",
          "text": [
            "Epoch 49/50: 100%|██████████| 391/391 [01:18<00:00,  4.97batch/s, loss=0.162]\n",
            "Testing: 100%|██████████| 79/79 [00:07<00:00, 10.62batch/s]\n"
          ]
        },
        {
          "name": "stdout",
          "output_type": "stream",
          "text": [
            "Accuracy about 10000 test images : accuracy = 90.19\n"
          ]
        },
        {
          "name": "stderr",
          "output_type": "stream",
          "text": [
            "Epoch 50/50: 100%|██████████| 391/391 [01:18<00:00,  4.96batch/s, loss=0.161]\n",
            "Testing: 100%|██████████| 79/79 [00:07<00:00, 11.02batch/s]\n"
          ]
        },
        {
          "name": "stdout",
          "output_type": "stream",
          "text": [
            "Accuracy about 10000 test images : accuracy = 90.02\n",
            "Finished Training\n"
          ]
        }
      ],
      "source": [
        "import warnings\n",
        "warnings.filterwarnings('ignore')\n",
        "\n",
        "model_num = 2 # total number of models\n",
        "total_epoch = 50 # total epoch\n",
        "lr = 0.01 # initial learning rate\n",
        "\n",
        "for s in range(model_num):\n",
        "    # fix random seed\n",
        "    seed_number = s\n",
        "    random.seed(seed_number)\n",
        "    np.random.seed(seed_number)\n",
        "    _ = torch.manual_seed(seed_number)\n",
        "    torch.cuda.manual_seed(seed_number)\n",
        "    torch.cuda.manual_seed_all(seed_number)\n",
        "    torch.backends.cudnn.deterministic = True\n",
        "    torch.backends.cudnn.benchmark = False\n",
        "    \n",
        "    # Check if GPU is available\n",
        "    \n",
        "\n",
        "\n",
        "    # Load the CIFAR-10 dataset\n",
        "    trainset = torchvision.datasets.CIFAR10(root='./data', train=True, download=True, transform=transforms['train'])\n",
        "    trainloader = torch.utils.data.DataLoader(trainset, batch_size=128, shuffle=True, num_workers=16)\n",
        "\n",
        "    testset = torchvision.datasets.CIFAR10(root='./data', train=False, download=True, transform=transforms['test'])\n",
        "    testloader = torch.utils.data.DataLoader(testset, batch_size=128, shuffle=False, num_workers=16)\n",
        "\n",
        "    # Define the ResNet-18 model with pre-trained weights\n",
        "    resnet18 = models.resnet18(pretrained = True).to(device)\n",
        "    in_features = resnet18.fc.in_features #int\n",
        "    resnet18.fc = nn.Sequential(nn.Linear(in_features,10)).to(device)\n",
        "    model = resnet18.to(device)\n",
        "\n",
        "    # Define the loss function and optimizer\n",
        "    # criterion = nn.CrossEntropyLoss()\n",
        "    # optimizer = optim.SGD(model.parameters(), lr=lr, momentum=0.9)\n",
        "    criterion = FocalLoss()\n",
        "    optimizer = optim.Adam(model.parameters(), lr=lr)\n",
        "    # Define the learning rate scheduler\n",
        "    scheduler = optim.lr_scheduler.StepLR(optimizer, step_size=30, gamma=0.1)\n",
        "\n",
        "     \n",
        "    # Train the model\n",
        "    for epoch in range(total_epoch):\n",
        "        train()\n",
        "        test()\n",
        "        scheduler.step()\n",
        "\n",
        "    print('Finished Training')\n",
        "    save_path = '/home/hyungyu/hwcifar10/ex2/resnet18_cifar10_%f_%d.pth' % (lr, seed_number)\n",
        "\n",
        "    # 모델 가중치를 지정한 경로에 저장\n",
        "    torch.save(model.state_dict(), save_path)"
      ]
    },
    {
      "cell_type": "code",
      "execution_count": 10,
      "metadata": {
        "id": "xAWtUiTYe0Do"
      },
      "outputs": [],
      "source": [
        "size = 224\n",
        "mean  = (0.49139968, 0.48215827, 0.44653124)\n",
        "std = (0.24703233, 0.24348505, 0.26158768)\n",
        "\n",
        "# Defrine transforms\n",
        "transform_test = T.Compose([\n",
        "    T.Resize(256),\n",
        "    T.TenCrop(224),\n",
        "    T.Lambda(lambda crops: torch.stack([T.Normalize((0.49139968, 0.48215827, 0.44653124), (0.24703233, 0.24348505, 0.26158768))(T.ToTensor()(crop)) for crop in crops]))\n",
        "\n",
        "    # T.ToTensor(),\n",
        "    # T.Normalize(mean, std)\n",
        "])"
      ]
    },
    {
      "cell_type": "code",
      "execution_count": 11,
      "metadata": {
        "colab": {
          "base_uri": "https://localhost:8080/"
        },
        "id": "vzGGrV_M0zz1",
        "outputId": "917af2a2-be9f-4fb5-baf6-589dbb9a5aae"
      },
      "outputs": [
        {
          "name": "stdout",
          "output_type": "stream",
          "text": [
            "Files already downloaded and verified\n"
          ]
        }
      ],
      "source": [
        "testset2 = torchvision.datasets.CIFAR10(root='./data', train=False, download=True, transform=transform_test)\n",
        "testloader2 = torch.utils.data.DataLoader(testset2, batch_size=128, shuffle=False, num_workers=0)"
      ]
    },
    {
      "cell_type": "code",
      "execution_count": 12,
      "metadata": {
        "colab": {
          "base_uri": "https://localhost:8080/"
        },
        "id": "yb-_Ps_2fcFT",
        "outputId": "e910c625-24fa-415b-c021-0f70621c047e"
      },
      "outputs": [],
      "source": [
        "models2 = []\n",
        "model_num= 2\n",
        "lr = 0.01\n",
        "\n",
        "resnet18 = models.resnet18(pretrained = True).to(device)\n",
        "in_features = resnet18.fc.in_features #int\n",
        "resnet18.fc = nn.Sequential(nn.Linear(in_features,10)).to(device)\n",
        "model = resnet18.to(device)\n",
        "\n",
        "for i in range(model_num):\n",
        "    # Define the ResNet-18 model with pre-trained weights\n",
        "    model.load_state_dict(torch.load(f\"/home/hyungyu/hwcifar10/ex2/resnet18_cifar10_%f_%d.pth\" % (lr, i)))  # Load the trained weights\n",
        "    model.eval()  # Set the model to evaluation mode\n",
        "    model = model.to(device)  # Move the model to the GPU\n",
        "    models2.append(model)"
      ]
    },
    {
      "cell_type": "code",
      "execution_count": 13,
      "metadata": {
        "colab": {
          "base_uri": "https://localhost:8080/"
        },
        "id": "rw4D0W55fsd6",
        "outputId": "455a631b-ab00-4819-d2cc-dd1f2c38de20"
      },
      "outputs": [
        {
          "name": "stdout",
          "output_type": "stream",
          "text": [
            "Accuracy of the ensemble on the 10000 test images: 91.140000 %\n"
          ]
        }
      ],
      "source": [
        "correct = 0\n",
        "total = 0\n",
        "with torch.no_grad():\n",
        "  for data in testloader2:\n",
        "    images, labels = data\n",
        "    images, labels = images.to(device), labels.to(device)  # Move the input data to the GPU\n",
        "    bs, ncrops, c, h, w = images.size()       \n",
        "    outputs = torch.zeros(bs, 10).to(device)  # Initialize the output tensor with zeros\n",
        "    for model in models2:\n",
        "      model_output = model(images.view(-1, c, h, w))  # Reshape the input to (bs*10, c, h, w)\n",
        "      model_output = model_output.view(bs, ncrops, -1).mean(1)  # Average the predictions of the 10 crops\n",
        "      outputs += model_output\n",
        "    _, predicted = torch.max(outputs.data, 1)\n",
        "    total += labels.size(0)\n",
        "    correct += (predicted == labels).sum().item()\n",
        "\n",
        "print('Accuracy of the ensemble on the 10000 test images: %f %%' % (100 * correct / total))"
      ]
    },
    {
      "cell_type": "code",
      "execution_count": null,
      "metadata": {
        "id": "Ad07iTFgfvMH"
      },
      "outputs": [],
      "source": []
    }
  ],
  "metadata": {
    "accelerator": "GPU",
    "colab": {
      "gpuType": "T4",
      "provenance": []
    },
    "gpuClass": "standard",
    "kernelspec": {
      "display_name": "Python 3",
      "name": "python3"
    },
    "language_info": {
      "codemirror_mode": {
        "name": "ipython",
        "version": 3
      },
      "file_extension": ".py",
      "mimetype": "text/x-python",
      "name": "python",
      "nbconvert_exporter": "python",
      "pygments_lexer": "ipython3",
      "version": "3.9.13"
    }
  },
  "nbformat": 4,
  "nbformat_minor": 0
}
