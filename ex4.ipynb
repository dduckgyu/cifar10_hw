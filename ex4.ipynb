{
  "cells": [
    {
      "cell_type": "code",
      "execution_count": 1,
      "metadata": {},
      "outputs": [],
      "source": [
        "import os\n",
        "\n",
        "os.environ['CUDA_VISIBLE_DEVICES'] = '6'"
      ]
    },
    {
      "cell_type": "code",
      "execution_count": 2,
      "metadata": {
        "id": "sYrZpbkd02RY"
      },
      "outputs": [],
      "source": [
        "import torch\n",
        "import torchvision\n",
        "import torchvision.transforms as T\n",
        "import torch.nn as nn\n",
        "import torch.optim as optim\n",
        "import torchvision.models as models\n",
        "import random\n",
        "import numpy as np"
      ]
    },
    {
      "cell_type": "code",
      "execution_count": null,
      "metadata": {
        "id": "wVtnkAVw2EX0"
      },
      "outputs": [],
      "source": [
        "# def seed_everything(seed_number = s):\n",
        "#   random.seed(seed_number)\n",
        "#   np.random.seed(seed_number)\n",
        "#   _ = torch.manual_seed(seed_number)\n",
        "#   torch.cuda.manual_seed(seed_number)\n",
        "#   torch.cuda.manual_seed_all(seed_number)\n",
        "#   torch.backends.cudnn.deterministic = True\n",
        "#   torch.backends.cudnn.benchmark = False\n",
        "#   return seed_number"
      ]
    },
    {
      "cell_type": "code",
      "execution_count": 3,
      "metadata": {
        "id": "dlbanOU8W77I"
      },
      "outputs": [],
      "source": [
        "size = 224\n",
        "mean  = (0.49139968, 0.48215827, 0.44653124)\n",
        "std = (0.24703233, 0.24348505, 0.26158768)\n",
        "\n",
        "# Defrine transforms\n",
        "\n",
        "transforms = {\n",
        "    'train' : T.Compose([\n",
        "      T.RandomResizedCrop(size, scale = (0.5, 1.0)),\n",
        "      T.RandomHorizontalFlip(),\n",
        "      T.ColorJitter(brightness = 0.5, contrast = 0.5),\n",
        "      T.RandomAffine(degrees = 20, translate = (0.2, 0.2), shear=(-20,20)),\n",
        "      T.ToTensor(),\n",
        "      T.Normalize(mean, std)\n",
        "    ]),\n",
        "    'test' : T.Compose([\n",
        "        T.Resize(256),\n",
        "        T.CenterCrop(size),\n",
        "        T.ToTensor(),\n",
        "        T.Normalize(mean, std)\n",
        "    ])\n",
        "}"
      ]
    },
    {
      "cell_type": "code",
      "execution_count": 4,
      "metadata": {
        "id": "V3pgSHcCH9Zl"
      },
      "outputs": [],
      "source": [
        "class FocalLoss(nn.Module):\n",
        "    def __init__(self, alpha=1, gamma=2, reduction='mean'):\n",
        "        super(FocalLoss, self).__init__()\n",
        "        self.alpha = alpha\n",
        "        self.gamma = gamma\n",
        "        self.reduction = reduction\n",
        "\n",
        "    def forward(self, inputs, targets):\n",
        "        ce_loss = nn.CrossEntropyLoss(reduction='none')(inputs, targets)\n",
        "        pt = torch.exp(-ce_loss)\n",
        "        focal_loss = self.alpha * (1 - pt) ** self.gamma * ce_loss\n",
        "\n",
        "        if self.reduction == 'mean':\n",
        "            return focal_loss.mean()\n",
        "        elif self.reduction == 'sum':\n",
        "            return focal_loss.sum()\n",
        "        else:\n",
        "            return focal_loss"
      ]
    },
    {
      "cell_type": "code",
      "execution_count": 5,
      "metadata": {
        "id": "vKCt0Sz3ZpZ_"
      },
      "outputs": [],
      "source": [
        "# import torch\n",
        "# import torch.nn as nn\n",
        "# import torch.nn.functional as F\n",
        "# from torch.autograd import Variable\n",
        "\n",
        "# class FocalLoss(nn.Module):\n",
        "#     def __init__(self, gamma=2, size_average=False):\n",
        "#         super(FocalLoss, self).__init__()\n",
        "#         self.gamma = gamma\n",
        "#         self.size_average = size_average\n",
        "\n",
        "#     def forward(self, input, target):\n",
        "#         if input.dim()>2:\n",
        "#             input = input.view(input.size(0),input.size(1),-1)  # N,C,H,W => N,C,H*W\n",
        "#             input = input.transpose(1,2)    # N,C,H*W => N,H*W,C\n",
        "#             input = input.contiguous().view(-1,input.size(2))   # N,H*W,C => N*H*W,C\n",
        "#         target = target.view(-1,1)\n",
        "\n",
        "#         logpt = F.log_softmax(input)\n",
        "#         logpt = logpt.gather(1,target)\n",
        "#         logpt = logpt.view(-1)\n",
        "#         pt = logpt.exp()\n",
        "\n",
        "#         loss = -1 * (1-pt)**self.gamma * logpt\n",
        "#         if self.size_average: return loss.mean()\n",
        "#         else: return loss.sum()"
      ]
    },
    {
      "cell_type": "code",
      "execution_count": 6,
      "metadata": {
        "id": "zT-u4nZ6G2IH"
      },
      "outputs": [],
      "source": [
        "# resnet18 = models.resnet18(pretrained = True).to(device)\n",
        "# in_features = resnet18.fc.in_features\n",
        "# resnet18.fc = nn.Sequential(nn.Linear(in_features,10)).to(device)"
      ]
    },
    {
      "cell_type": "code",
      "execution_count": 7,
      "metadata": {
        "id": "BQWsf2-b_QJx"
      },
      "outputs": [],
      "source": [
        "if torch.cuda.is_available():\n",
        "  device = torch.device('cuda')\n",
        "else:\n",
        "  device = torch.device('cpu')"
      ]
    },
    {
      "cell_type": "code",
      "execution_count": 8,
      "metadata": {
        "id": "7sGNUpqN9Nhx"
      },
      "outputs": [],
      "source": [
        "from tqdm import tqdm\n",
        "import time"
      ]
    },
    {
      "cell_type": "code",
      "execution_count": 9,
      "metadata": {
        "id": "Vn1Q72x49yDR"
      },
      "outputs": [],
      "source": [
        "def train():\n",
        "  # num_epochs = 10\n",
        "  # for epoch in range(num_epochs):\n",
        "  model.train()\n",
        "  running_loss = 0.0\n",
        "\n",
        "  with tqdm(total=len(trainloader), desc=f'Epoch {epoch+1}/{total_epoch}', unit='batch') as progress_bar:\n",
        "      for i, (inputs, labels) in enumerate(trainloader):\n",
        "          inputs = inputs.to(device)\n",
        "          labels = labels.to(device)\n",
        "\n",
        "          optimizer.zero_grad()\n",
        "          outputs = model(inputs)\n",
        "          loss = criterion(outputs, labels)\n",
        "          loss.backward()\n",
        "          optimizer.step()\n",
        "\n",
        "          running_loss += loss.item()\n",
        "          progress_bar.set_postfix(loss=running_loss / (i + 1))\n",
        "          progress_bar.update()\n",
        "\n",
        "def test():\n",
        "  model.eval()\n",
        "  correct = 0\n",
        "  total = 0\n",
        "\n",
        "  with tqdm(total=len(testloader), desc='Testing', unit='batch') as progress_bar:\n",
        "      for inputs, labels in testloader:\n",
        "          inputs = inputs.to(device)\n",
        "          labels = labels.to(device)\n",
        "\n",
        "          outputs = model(inputs)\n",
        "          _, predicted = torch.max(outputs.data, 1)\n",
        "          total += labels.size(0)\n",
        "          correct += (predicted == labels).sum().item()\n",
        "\n",
        "          progress_bar.update()\n",
        "\n",
        "  print(f'Accuracy about 10000 test images : accuracy = {100 * correct / total}')"
      ]
    },
    {
      "cell_type": "code",
      "execution_count": 11,
      "metadata": {
        "colab": {
          "base_uri": "https://localhost:8080/"
        },
        "id": "VjrfgW63y7JL",
        "outputId": "4ff6b71b-1a92-4d94-d962-ac244aa028c6"
      },
      "outputs": [
        {
          "name": "stdout",
          "output_type": "stream",
          "text": [
            "Files already downloaded and verified\n",
            "Files already downloaded and verified\n"
          ]
        },
        {
          "name": "stderr",
          "output_type": "stream",
          "text": [
            "Epoch 1/50: 100%|██████████| 391/391 [01:17<00:00,  5.01batch/s, loss=0.446]\n",
            "Testing: 100%|██████████| 79/79 [00:06<00:00, 11.46batch/s]\n"
          ]
        },
        {
          "name": "stdout",
          "output_type": "stream",
          "text": [
            "Accuracy about 10000 test images : accuracy = 86.14\n"
          ]
        },
        {
          "name": "stderr",
          "output_type": "stream",
          "text": [
            "Epoch 2/50: 100%|██████████| 391/391 [01:17<00:00,  5.04batch/s, loss=0.26] \n",
            "Testing: 100%|██████████| 79/79 [00:06<00:00, 11.79batch/s]\n"
          ]
        },
        {
          "name": "stdout",
          "output_type": "stream",
          "text": [
            "Accuracy about 10000 test images : accuracy = 90.65\n"
          ]
        },
        {
          "name": "stderr",
          "output_type": "stream",
          "text": [
            "Epoch 3/50: 100%|██████████| 391/391 [01:18<00:00,  4.96batch/s, loss=0.214]\n",
            "Testing: 100%|██████████| 79/79 [00:06<00:00, 11.35batch/s]\n"
          ]
        },
        {
          "name": "stdout",
          "output_type": "stream",
          "text": [
            "Accuracy about 10000 test images : accuracy = 91.67\n"
          ]
        },
        {
          "name": "stderr",
          "output_type": "stream",
          "text": [
            "Epoch 4/50: 100%|██████████| 391/391 [01:17<00:00,  5.04batch/s, loss=0.185]\n",
            "Testing: 100%|██████████| 79/79 [00:06<00:00, 11.35batch/s]\n"
          ]
        },
        {
          "name": "stdout",
          "output_type": "stream",
          "text": [
            "Accuracy about 10000 test images : accuracy = 91.17\n"
          ]
        },
        {
          "name": "stderr",
          "output_type": "stream",
          "text": [
            "Epoch 5/50: 100%|██████████| 391/391 [01:19<00:00,  4.90batch/s, loss=0.169]\n",
            "Testing: 100%|██████████| 79/79 [00:07<00:00, 11.26batch/s]\n"
          ]
        },
        {
          "name": "stdout",
          "output_type": "stream",
          "text": [
            "Accuracy about 10000 test images : accuracy = 92.55\n"
          ]
        },
        {
          "name": "stderr",
          "output_type": "stream",
          "text": [
            "Epoch 6/50: 100%|██████████| 391/391 [01:17<00:00,  5.02batch/s, loss=0.152]\n",
            "Testing: 100%|██████████| 79/79 [00:06<00:00, 11.34batch/s]\n"
          ]
        },
        {
          "name": "stdout",
          "output_type": "stream",
          "text": [
            "Accuracy about 10000 test images : accuracy = 93.65\n"
          ]
        },
        {
          "name": "stderr",
          "output_type": "stream",
          "text": [
            "Epoch 7/50: 100%|██████████| 391/391 [01:18<00:00,  4.96batch/s, loss=0.138]\n",
            "Testing: 100%|██████████| 79/79 [00:07<00:00, 10.83batch/s]\n"
          ]
        },
        {
          "name": "stdout",
          "output_type": "stream",
          "text": [
            "Accuracy about 10000 test images : accuracy = 92.2\n"
          ]
        },
        {
          "name": "stderr",
          "output_type": "stream",
          "text": [
            "Epoch 8/50: 100%|██████████| 391/391 [01:18<00:00,  4.96batch/s, loss=0.128]\n",
            "Testing: 100%|██████████| 79/79 [00:06<00:00, 11.51batch/s]\n"
          ]
        },
        {
          "name": "stdout",
          "output_type": "stream",
          "text": [
            "Accuracy about 10000 test images : accuracy = 93.68\n"
          ]
        },
        {
          "name": "stderr",
          "output_type": "stream",
          "text": [
            "Epoch 9/50: 100%|██████████| 391/391 [01:18<00:00,  5.00batch/s, loss=0.123]\n",
            "Testing: 100%|██████████| 79/79 [00:06<00:00, 11.43batch/s]\n"
          ]
        },
        {
          "name": "stdout",
          "output_type": "stream",
          "text": [
            "Accuracy about 10000 test images : accuracy = 93.02\n"
          ]
        },
        {
          "name": "stderr",
          "output_type": "stream",
          "text": [
            "Epoch 10/50: 100%|██████████| 391/391 [01:17<00:00,  5.03batch/s, loss=0.119]\n",
            "Testing: 100%|██████████| 79/79 [00:06<00:00, 11.67batch/s]\n"
          ]
        },
        {
          "name": "stdout",
          "output_type": "stream",
          "text": [
            "Accuracy about 10000 test images : accuracy = 92.71\n"
          ]
        },
        {
          "name": "stderr",
          "output_type": "stream",
          "text": [
            "Epoch 11/50: 100%|██████████| 391/391 [01:18<00:00,  4.96batch/s, loss=0.107]\n",
            "Testing: 100%|██████████| 79/79 [00:07<00:00, 11.14batch/s]\n"
          ]
        },
        {
          "name": "stdout",
          "output_type": "stream",
          "text": [
            "Accuracy about 10000 test images : accuracy = 93.47\n"
          ]
        },
        {
          "name": "stderr",
          "output_type": "stream",
          "text": [
            "Epoch 12/50: 100%|██████████| 391/391 [01:20<00:00,  4.88batch/s, loss=0.102] \n",
            "Testing: 100%|██████████| 79/79 [00:06<00:00, 11.33batch/s]\n"
          ]
        },
        {
          "name": "stdout",
          "output_type": "stream",
          "text": [
            "Accuracy about 10000 test images : accuracy = 94.28\n"
          ]
        },
        {
          "name": "stderr",
          "output_type": "stream",
          "text": [
            "Epoch 13/50: 100%|██████████| 391/391 [01:19<00:00,  4.93batch/s, loss=0.0995]\n",
            "Testing: 100%|██████████| 79/79 [00:06<00:00, 11.49batch/s]\n"
          ]
        },
        {
          "name": "stdout",
          "output_type": "stream",
          "text": [
            "Accuracy about 10000 test images : accuracy = 94.6\n"
          ]
        },
        {
          "name": "stderr",
          "output_type": "stream",
          "text": [
            "Epoch 14/50: 100%|██████████| 391/391 [01:18<00:00,  4.95batch/s, loss=0.0955]\n",
            "Testing: 100%|██████████| 79/79 [00:07<00:00, 11.19batch/s]\n"
          ]
        },
        {
          "name": "stdout",
          "output_type": "stream",
          "text": [
            "Accuracy about 10000 test images : accuracy = 94.31\n"
          ]
        },
        {
          "name": "stderr",
          "output_type": "stream",
          "text": [
            "Epoch 15/50: 100%|██████████| 391/391 [01:20<00:00,  4.88batch/s, loss=0.091] \n",
            "Testing: 100%|██████████| 79/79 [00:06<00:00, 11.37batch/s]\n"
          ]
        },
        {
          "name": "stdout",
          "output_type": "stream",
          "text": [
            "Accuracy about 10000 test images : accuracy = 94.56\n"
          ]
        },
        {
          "name": "stderr",
          "output_type": "stream",
          "text": [
            "Epoch 16/50: 100%|██████████| 391/391 [01:19<00:00,  4.93batch/s, loss=0.0867]\n",
            "Testing: 100%|██████████| 79/79 [00:06<00:00, 11.78batch/s]\n"
          ]
        },
        {
          "name": "stdout",
          "output_type": "stream",
          "text": [
            "Accuracy about 10000 test images : accuracy = 94.39\n"
          ]
        },
        {
          "name": "stderr",
          "output_type": "stream",
          "text": [
            "Epoch 17/50: 100%|██████████| 391/391 [01:19<00:00,  4.90batch/s, loss=0.0847]\n",
            "Testing: 100%|██████████| 79/79 [00:07<00:00, 11.27batch/s]\n"
          ]
        },
        {
          "name": "stdout",
          "output_type": "stream",
          "text": [
            "Accuracy about 10000 test images : accuracy = 93.96\n"
          ]
        },
        {
          "name": "stderr",
          "output_type": "stream",
          "text": [
            "Epoch 18/50: 100%|██████████| 391/391 [01:19<00:00,  4.93batch/s, loss=0.0828]\n",
            "Testing: 100%|██████████| 79/79 [00:06<00:00, 11.40batch/s]\n"
          ]
        },
        {
          "name": "stdout",
          "output_type": "stream",
          "text": [
            "Accuracy about 10000 test images : accuracy = 94.52\n"
          ]
        },
        {
          "name": "stderr",
          "output_type": "stream",
          "text": [
            "Epoch 19/50: 100%|██████████| 391/391 [01:19<00:00,  4.89batch/s, loss=0.0776]\n",
            "Testing: 100%|██████████| 79/79 [00:07<00:00, 10.82batch/s]\n"
          ]
        },
        {
          "name": "stdout",
          "output_type": "stream",
          "text": [
            "Accuracy about 10000 test images : accuracy = 93.77\n"
          ]
        },
        {
          "name": "stderr",
          "output_type": "stream",
          "text": [
            "Epoch 20/50: 100%|██████████| 391/391 [01:20<00:00,  4.87batch/s, loss=0.0711]\n",
            "Testing: 100%|██████████| 79/79 [00:07<00:00, 11.04batch/s]\n"
          ]
        },
        {
          "name": "stdout",
          "output_type": "stream",
          "text": [
            "Accuracy about 10000 test images : accuracy = 94.54\n"
          ]
        },
        {
          "name": "stderr",
          "output_type": "stream",
          "text": [
            "Epoch 21/50: 100%|██████████| 391/391 [01:19<00:00,  4.92batch/s, loss=0.0714]\n",
            "Testing: 100%|██████████| 79/79 [00:07<00:00, 11.26batch/s]\n"
          ]
        },
        {
          "name": "stdout",
          "output_type": "stream",
          "text": [
            "Accuracy about 10000 test images : accuracy = 94.9\n"
          ]
        },
        {
          "name": "stderr",
          "output_type": "stream",
          "text": [
            "Epoch 22/50: 100%|██████████| 391/391 [01:19<00:00,  4.93batch/s, loss=0.0687]\n",
            "Testing: 100%|██████████| 79/79 [00:06<00:00, 11.59batch/s]\n"
          ]
        },
        {
          "name": "stdout",
          "output_type": "stream",
          "text": [
            "Accuracy about 10000 test images : accuracy = 94.22\n"
          ]
        },
        {
          "name": "stderr",
          "output_type": "stream",
          "text": [
            "Epoch 23/50: 100%|██████████| 391/391 [01:18<00:00,  5.00batch/s, loss=0.0668]\n",
            "Testing: 100%|██████████| 79/79 [00:07<00:00, 11.23batch/s]\n"
          ]
        },
        {
          "name": "stdout",
          "output_type": "stream",
          "text": [
            "Accuracy about 10000 test images : accuracy = 94.79\n"
          ]
        },
        {
          "name": "stderr",
          "output_type": "stream",
          "text": [
            "Epoch 24/50: 100%|██████████| 391/391 [01:20<00:00,  4.88batch/s, loss=0.0659]\n",
            "Testing: 100%|██████████| 79/79 [00:07<00:00, 11.25batch/s]\n"
          ]
        },
        {
          "name": "stdout",
          "output_type": "stream",
          "text": [
            "Accuracy about 10000 test images : accuracy = 94.59\n"
          ]
        },
        {
          "name": "stderr",
          "output_type": "stream",
          "text": [
            "Epoch 25/50: 100%|██████████| 391/391 [01:18<00:00,  4.99batch/s, loss=0.0642]\n",
            "Testing: 100%|██████████| 79/79 [00:06<00:00, 11.35batch/s]\n"
          ]
        },
        {
          "name": "stdout",
          "output_type": "stream",
          "text": [
            "Accuracy about 10000 test images : accuracy = 95.11\n"
          ]
        },
        {
          "name": "stderr",
          "output_type": "stream",
          "text": [
            "Epoch 26/50: 100%|██████████| 391/391 [01:20<00:00,  4.85batch/s, loss=0.061] \n",
            "Testing: 100%|██████████| 79/79 [00:07<00:00, 11.19batch/s]\n"
          ]
        },
        {
          "name": "stdout",
          "output_type": "stream",
          "text": [
            "Accuracy about 10000 test images : accuracy = 94.63\n"
          ]
        },
        {
          "name": "stderr",
          "output_type": "stream",
          "text": [
            "Epoch 27/50: 100%|██████████| 391/391 [01:19<00:00,  4.95batch/s, loss=0.0571]\n",
            "Testing: 100%|██████████| 79/79 [00:06<00:00, 11.36batch/s]\n"
          ]
        },
        {
          "name": "stdout",
          "output_type": "stream",
          "text": [
            "Accuracy about 10000 test images : accuracy = 94.97\n"
          ]
        },
        {
          "name": "stderr",
          "output_type": "stream",
          "text": [
            "Epoch 28/50: 100%|██████████| 391/391 [01:19<00:00,  4.93batch/s, loss=0.0543]\n",
            "Testing: 100%|██████████| 79/79 [00:06<00:00, 11.51batch/s]\n"
          ]
        },
        {
          "name": "stdout",
          "output_type": "stream",
          "text": [
            "Accuracy about 10000 test images : accuracy = 94.84\n"
          ]
        },
        {
          "name": "stderr",
          "output_type": "stream",
          "text": [
            "Epoch 29/50: 100%|██████████| 391/391 [01:20<00:00,  4.86batch/s, loss=0.0547]\n",
            "Testing: 100%|██████████| 79/79 [00:07<00:00, 11.18batch/s]\n"
          ]
        },
        {
          "name": "stdout",
          "output_type": "stream",
          "text": [
            "Accuracy about 10000 test images : accuracy = 94.92\n"
          ]
        },
        {
          "name": "stderr",
          "output_type": "stream",
          "text": [
            "Epoch 30/50: 100%|██████████| 391/391 [01:20<00:00,  4.87batch/s, loss=0.0556]\n",
            "Testing: 100%|██████████| 79/79 [00:07<00:00, 11.18batch/s]\n"
          ]
        },
        {
          "name": "stdout",
          "output_type": "stream",
          "text": [
            "Accuracy about 10000 test images : accuracy = 94.48\n"
          ]
        },
        {
          "name": "stderr",
          "output_type": "stream",
          "text": [
            "Epoch 31/50: 100%|██████████| 391/391 [01:19<00:00,  4.90batch/s, loss=0.042] \n",
            "Testing: 100%|██████████| 79/79 [00:07<00:00, 11.07batch/s]\n"
          ]
        },
        {
          "name": "stdout",
          "output_type": "stream",
          "text": [
            "Accuracy about 10000 test images : accuracy = 95.59\n"
          ]
        },
        {
          "name": "stderr",
          "output_type": "stream",
          "text": [
            "Epoch 32/50: 100%|██████████| 391/391 [01:20<00:00,  4.87batch/s, loss=0.035] \n",
            "Testing: 100%|██████████| 79/79 [00:07<00:00, 11.14batch/s]\n"
          ]
        },
        {
          "name": "stdout",
          "output_type": "stream",
          "text": [
            "Accuracy about 10000 test images : accuracy = 95.71\n"
          ]
        },
        {
          "name": "stderr",
          "output_type": "stream",
          "text": [
            "Epoch 33/50: 100%|██████████| 391/391 [01:19<00:00,  4.93batch/s, loss=0.0333]\n",
            "Testing: 100%|██████████| 79/79 [00:07<00:00, 11.13batch/s]\n"
          ]
        },
        {
          "name": "stdout",
          "output_type": "stream",
          "text": [
            "Accuracy about 10000 test images : accuracy = 95.77\n"
          ]
        },
        {
          "name": "stderr",
          "output_type": "stream",
          "text": [
            "Epoch 34/50: 100%|██████████| 391/391 [01:19<00:00,  4.94batch/s, loss=0.0322]\n",
            "Testing: 100%|██████████| 79/79 [00:06<00:00, 11.45batch/s]\n"
          ]
        },
        {
          "name": "stdout",
          "output_type": "stream",
          "text": [
            "Accuracy about 10000 test images : accuracy = 95.86\n"
          ]
        },
        {
          "name": "stderr",
          "output_type": "stream",
          "text": [
            "Epoch 35/50: 100%|██████████| 391/391 [01:19<00:00,  4.94batch/s, loss=0.0308]\n",
            "Testing: 100%|██████████| 79/79 [00:07<00:00, 11.00batch/s]\n"
          ]
        },
        {
          "name": "stdout",
          "output_type": "stream",
          "text": [
            "Accuracy about 10000 test images : accuracy = 95.84\n"
          ]
        },
        {
          "name": "stderr",
          "output_type": "stream",
          "text": [
            "Epoch 36/50: 100%|██████████| 391/391 [01:18<00:00,  4.97batch/s, loss=0.0303]\n",
            "Testing: 100%|██████████| 79/79 [00:06<00:00, 11.37batch/s]\n"
          ]
        },
        {
          "name": "stdout",
          "output_type": "stream",
          "text": [
            "Accuracy about 10000 test images : accuracy = 95.91\n"
          ]
        },
        {
          "name": "stderr",
          "output_type": "stream",
          "text": [
            "Epoch 37/50: 100%|██████████| 391/391 [01:18<00:00,  5.01batch/s, loss=0.0287]\n",
            "Testing: 100%|██████████| 79/79 [00:06<00:00, 11.67batch/s]\n"
          ]
        },
        {
          "name": "stdout",
          "output_type": "stream",
          "text": [
            "Accuracy about 10000 test images : accuracy = 95.85\n"
          ]
        },
        {
          "name": "stderr",
          "output_type": "stream",
          "text": [
            "Epoch 38/50: 100%|██████████| 391/391 [01:18<00:00,  4.95batch/s, loss=0.0286]\n",
            "Testing: 100%|██████████| 79/79 [00:06<00:00, 11.50batch/s]\n"
          ]
        },
        {
          "name": "stdout",
          "output_type": "stream",
          "text": [
            "Accuracy about 10000 test images : accuracy = 95.85\n"
          ]
        },
        {
          "name": "stderr",
          "output_type": "stream",
          "text": [
            "Epoch 39/50: 100%|██████████| 391/391 [01:18<00:00,  4.95batch/s, loss=0.0287]\n",
            "Testing: 100%|██████████| 79/79 [00:06<00:00, 11.52batch/s]\n"
          ]
        },
        {
          "name": "stdout",
          "output_type": "stream",
          "text": [
            "Accuracy about 10000 test images : accuracy = 95.83\n"
          ]
        },
        {
          "name": "stderr",
          "output_type": "stream",
          "text": [
            "Epoch 40/50: 100%|██████████| 391/391 [01:18<00:00,  4.97batch/s, loss=0.0282]\n",
            "Testing: 100%|██████████| 79/79 [00:07<00:00, 11.22batch/s]\n"
          ]
        },
        {
          "name": "stdout",
          "output_type": "stream",
          "text": [
            "Accuracy about 10000 test images : accuracy = 95.97\n"
          ]
        },
        {
          "name": "stderr",
          "output_type": "stream",
          "text": [
            "Epoch 41/50: 100%|██████████| 391/391 [01:19<00:00,  4.95batch/s, loss=0.0272]\n",
            "Testing: 100%|██████████| 79/79 [00:07<00:00, 11.02batch/s]\n"
          ]
        },
        {
          "name": "stdout",
          "output_type": "stream",
          "text": [
            "Accuracy about 10000 test images : accuracy = 95.96\n"
          ]
        },
        {
          "name": "stderr",
          "output_type": "stream",
          "text": [
            "Epoch 42/50: 100%|██████████| 391/391 [01:20<00:00,  4.89batch/s, loss=0.0256]\n",
            "Testing: 100%|██████████| 79/79 [00:07<00:00, 11.16batch/s]\n"
          ]
        },
        {
          "name": "stdout",
          "output_type": "stream",
          "text": [
            "Accuracy about 10000 test images : accuracy = 95.94\n"
          ]
        },
        {
          "name": "stderr",
          "output_type": "stream",
          "text": [
            "Epoch 43/50: 100%|██████████| 391/391 [01:20<00:00,  4.86batch/s, loss=0.0259]\n",
            "Testing: 100%|██████████| 79/79 [00:07<00:00, 10.97batch/s]\n"
          ]
        },
        {
          "name": "stdout",
          "output_type": "stream",
          "text": [
            "Accuracy about 10000 test images : accuracy = 95.92\n"
          ]
        },
        {
          "name": "stderr",
          "output_type": "stream",
          "text": [
            "Epoch 44/50: 100%|██████████| 391/391 [01:19<00:00,  4.94batch/s, loss=0.0255]\n",
            "Testing: 100%|██████████| 79/79 [00:07<00:00, 10.91batch/s]\n"
          ]
        },
        {
          "name": "stdout",
          "output_type": "stream",
          "text": [
            "Accuracy about 10000 test images : accuracy = 95.95\n"
          ]
        },
        {
          "name": "stderr",
          "output_type": "stream",
          "text": [
            "Epoch 45/50: 100%|██████████| 391/391 [01:20<00:00,  4.87batch/s, loss=0.025] \n",
            "Testing: 100%|██████████| 79/79 [00:07<00:00, 10.93batch/s]\n"
          ]
        },
        {
          "name": "stdout",
          "output_type": "stream",
          "text": [
            "Accuracy about 10000 test images : accuracy = 95.98\n"
          ]
        },
        {
          "name": "stderr",
          "output_type": "stream",
          "text": [
            "Epoch 46/50: 100%|██████████| 391/391 [01:21<00:00,  4.83batch/s, loss=0.0257]\n",
            "Testing: 100%|██████████| 79/79 [00:07<00:00, 10.89batch/s]\n"
          ]
        },
        {
          "name": "stdout",
          "output_type": "stream",
          "text": [
            "Accuracy about 10000 test images : accuracy = 96.02\n"
          ]
        },
        {
          "name": "stderr",
          "output_type": "stream",
          "text": [
            "Epoch 47/50: 100%|██████████| 391/391 [01:19<00:00,  4.93batch/s, loss=0.0257]\n",
            "Testing: 100%|██████████| 79/79 [00:06<00:00, 11.41batch/s]\n"
          ]
        },
        {
          "name": "stdout",
          "output_type": "stream",
          "text": [
            "Accuracy about 10000 test images : accuracy = 95.93\n"
          ]
        },
        {
          "name": "stderr",
          "output_type": "stream",
          "text": [
            "Epoch 48/50: 100%|██████████| 391/391 [01:20<00:00,  4.86batch/s, loss=0.025] \n",
            "Testing: 100%|██████████| 79/79 [00:07<00:00, 11.10batch/s]\n"
          ]
        },
        {
          "name": "stdout",
          "output_type": "stream",
          "text": [
            "Accuracy about 10000 test images : accuracy = 95.99\n"
          ]
        },
        {
          "name": "stderr",
          "output_type": "stream",
          "text": [
            "Epoch 49/50: 100%|██████████| 391/391 [01:19<00:00,  4.91batch/s, loss=0.0248]\n",
            "Testing: 100%|██████████| 79/79 [00:07<00:00, 10.70batch/s]\n"
          ]
        },
        {
          "name": "stdout",
          "output_type": "stream",
          "text": [
            "Accuracy about 10000 test images : accuracy = 96.0\n"
          ]
        },
        {
          "name": "stderr",
          "output_type": "stream",
          "text": [
            "Epoch 50/50: 100%|██████████| 391/391 [01:20<00:00,  4.87batch/s, loss=0.0239]\n",
            "Testing: 100%|██████████| 79/79 [00:07<00:00, 11.10batch/s]\n"
          ]
        },
        {
          "name": "stdout",
          "output_type": "stream",
          "text": [
            "Accuracy about 10000 test images : accuracy = 96.05\n",
            "Finished Training\n",
            "Files already downloaded and verified\n",
            "Files already downloaded and verified\n"
          ]
        },
        {
          "name": "stderr",
          "output_type": "stream",
          "text": [
            "Epoch 1/50: 100%|██████████| 391/391 [01:19<00:00,  4.93batch/s, loss=0.452]\n",
            "Testing: 100%|██████████| 79/79 [00:07<00:00, 10.20batch/s]\n"
          ]
        },
        {
          "name": "stdout",
          "output_type": "stream",
          "text": [
            "Accuracy about 10000 test images : accuracy = 89.12\n"
          ]
        },
        {
          "name": "stderr",
          "output_type": "stream",
          "text": [
            "Epoch 2/50: 100%|██████████| 391/391 [01:18<00:00,  5.00batch/s, loss=0.25] \n",
            "Testing: 100%|██████████| 79/79 [00:07<00:00, 10.02batch/s]\n"
          ]
        },
        {
          "name": "stdout",
          "output_type": "stream",
          "text": [
            "Accuracy about 10000 test images : accuracy = 91.34\n"
          ]
        },
        {
          "name": "stderr",
          "output_type": "stream",
          "text": [
            "Epoch 3/50: 100%|██████████| 391/391 [01:18<00:00,  4.97batch/s, loss=0.213]\n",
            "Testing: 100%|██████████| 79/79 [00:06<00:00, 11.33batch/s]\n"
          ]
        },
        {
          "name": "stdout",
          "output_type": "stream",
          "text": [
            "Accuracy about 10000 test images : accuracy = 90.27\n"
          ]
        },
        {
          "name": "stderr",
          "output_type": "stream",
          "text": [
            "Epoch 4/50: 100%|██████████| 391/391 [01:19<00:00,  4.92batch/s, loss=0.189]\n",
            "Testing: 100%|██████████| 79/79 [00:07<00:00, 10.08batch/s]\n"
          ]
        },
        {
          "name": "stdout",
          "output_type": "stream",
          "text": [
            "Accuracy about 10000 test images : accuracy = 91.94\n"
          ]
        },
        {
          "name": "stderr",
          "output_type": "stream",
          "text": [
            "Epoch 5/50: 100%|██████████| 391/391 [01:20<00:00,  4.86batch/s, loss=0.166]\n",
            "Testing: 100%|██████████| 79/79 [00:08<00:00,  9.30batch/s]\n"
          ]
        },
        {
          "name": "stdout",
          "output_type": "stream",
          "text": [
            "Accuracy about 10000 test images : accuracy = 93.16\n"
          ]
        },
        {
          "name": "stderr",
          "output_type": "stream",
          "text": [
            "Epoch 6/50: 100%|██████████| 391/391 [01:27<00:00,  4.47batch/s, loss=0.155]\n",
            "Testing: 100%|██████████| 79/79 [00:11<00:00,  7.16batch/s]\n"
          ]
        },
        {
          "name": "stdout",
          "output_type": "stream",
          "text": [
            "Accuracy about 10000 test images : accuracy = 92.74\n"
          ]
        },
        {
          "name": "stderr",
          "output_type": "stream",
          "text": [
            "Epoch 7/50: 100%|██████████| 391/391 [02:01<00:00,  3.22batch/s, loss=0.144]\n",
            "Testing: 100%|██████████| 79/79 [00:07<00:00, 10.69batch/s]\n"
          ]
        },
        {
          "name": "stdout",
          "output_type": "stream",
          "text": [
            "Accuracy about 10000 test images : accuracy = 93.74\n"
          ]
        },
        {
          "name": "stderr",
          "output_type": "stream",
          "text": [
            "Epoch 8/50: 100%|██████████| 391/391 [01:18<00:00,  4.96batch/s, loss=0.131]\n",
            "Testing: 100%|██████████| 79/79 [00:07<00:00, 10.89batch/s]\n"
          ]
        },
        {
          "name": "stdout",
          "output_type": "stream",
          "text": [
            "Accuracy about 10000 test images : accuracy = 93.34\n"
          ]
        },
        {
          "name": "stderr",
          "output_type": "stream",
          "text": [
            "Epoch 9/50: 100%|██████████| 391/391 [01:18<00:00,  5.00batch/s, loss=0.122]\n",
            "Testing: 100%|██████████| 79/79 [00:07<00:00, 10.78batch/s]\n"
          ]
        },
        {
          "name": "stdout",
          "output_type": "stream",
          "text": [
            "Accuracy about 10000 test images : accuracy = 93.8\n"
          ]
        },
        {
          "name": "stderr",
          "output_type": "stream",
          "text": [
            "Epoch 10/50: 100%|██████████| 391/391 [01:19<00:00,  4.90batch/s, loss=0.115]\n",
            "Testing: 100%|██████████| 79/79 [00:07<00:00, 10.60batch/s]\n"
          ]
        },
        {
          "name": "stdout",
          "output_type": "stream",
          "text": [
            "Accuracy about 10000 test images : accuracy = 93.35\n"
          ]
        },
        {
          "name": "stderr",
          "output_type": "stream",
          "text": [
            "Epoch 11/50: 100%|██████████| 391/391 [01:19<00:00,  4.94batch/s, loss=0.109]\n",
            "Testing: 100%|██████████| 79/79 [00:07<00:00, 10.94batch/s]\n"
          ]
        },
        {
          "name": "stdout",
          "output_type": "stream",
          "text": [
            "Accuracy about 10000 test images : accuracy = 94.28\n"
          ]
        },
        {
          "name": "stderr",
          "output_type": "stream",
          "text": [
            "Epoch 12/50: 100%|██████████| 391/391 [01:18<00:00,  5.00batch/s, loss=0.101] \n",
            "Testing: 100%|██████████| 79/79 [00:07<00:00, 10.90batch/s]\n"
          ]
        },
        {
          "name": "stdout",
          "output_type": "stream",
          "text": [
            "Accuracy about 10000 test images : accuracy = 94.15\n"
          ]
        },
        {
          "name": "stderr",
          "output_type": "stream",
          "text": [
            "Epoch 13/50: 100%|██████████| 391/391 [01:19<00:00,  4.91batch/s, loss=0.101]\n",
            "Testing: 100%|██████████| 79/79 [00:07<00:00, 10.23batch/s]\n"
          ]
        },
        {
          "name": "stdout",
          "output_type": "stream",
          "text": [
            "Accuracy about 10000 test images : accuracy = 94.0\n"
          ]
        },
        {
          "name": "stderr",
          "output_type": "stream",
          "text": [
            "Epoch 14/50: 100%|██████████| 391/391 [01:18<00:00,  4.96batch/s, loss=0.0948]\n",
            "Testing: 100%|██████████| 79/79 [00:07<00:00, 10.84batch/s]\n"
          ]
        },
        {
          "name": "stdout",
          "output_type": "stream",
          "text": [
            "Accuracy about 10000 test images : accuracy = 94.27\n"
          ]
        },
        {
          "name": "stderr",
          "output_type": "stream",
          "text": [
            "Epoch 15/50: 100%|██████████| 391/391 [01:20<00:00,  4.86batch/s, loss=0.0896]\n",
            "Testing: 100%|██████████| 79/79 [00:07<00:00, 10.34batch/s]\n"
          ]
        },
        {
          "name": "stdout",
          "output_type": "stream",
          "text": [
            "Accuracy about 10000 test images : accuracy = 94.7\n"
          ]
        },
        {
          "name": "stderr",
          "output_type": "stream",
          "text": [
            "Epoch 16/50: 100%|██████████| 391/391 [01:18<00:00,  4.96batch/s, loss=0.0848]\n",
            "Testing: 100%|██████████| 79/79 [00:07<00:00, 10.97batch/s]\n"
          ]
        },
        {
          "name": "stdout",
          "output_type": "stream",
          "text": [
            "Accuracy about 10000 test images : accuracy = 94.43\n"
          ]
        },
        {
          "name": "stderr",
          "output_type": "stream",
          "text": [
            "Epoch 17/50: 100%|██████████| 391/391 [01:17<00:00,  5.02batch/s, loss=0.0831]\n",
            "Testing: 100%|██████████| 79/79 [00:07<00:00, 10.39batch/s]\n"
          ]
        },
        {
          "name": "stdout",
          "output_type": "stream",
          "text": [
            "Accuracy about 10000 test images : accuracy = 93.89\n"
          ]
        },
        {
          "name": "stderr",
          "output_type": "stream",
          "text": [
            "Epoch 18/50: 100%|██████████| 391/391 [01:20<00:00,  4.85batch/s, loss=0.0808]\n",
            "Testing: 100%|██████████| 79/79 [00:07<00:00,  9.93batch/s]\n"
          ]
        },
        {
          "name": "stdout",
          "output_type": "stream",
          "text": [
            "Accuracy about 10000 test images : accuracy = 93.95\n"
          ]
        },
        {
          "name": "stderr",
          "output_type": "stream",
          "text": [
            "Epoch 19/50: 100%|██████████| 391/391 [01:19<00:00,  4.91batch/s, loss=0.0779]\n",
            "Testing: 100%|██████████| 79/79 [00:07<00:00, 10.75batch/s]\n"
          ]
        },
        {
          "name": "stdout",
          "output_type": "stream",
          "text": [
            "Accuracy about 10000 test images : accuracy = 94.69\n"
          ]
        },
        {
          "name": "stderr",
          "output_type": "stream",
          "text": [
            "Epoch 20/50: 100%|██████████| 391/391 [01:18<00:00,  4.99batch/s, loss=0.0751]\n",
            "Testing: 100%|██████████| 79/79 [00:07<00:00, 10.94batch/s]\n"
          ]
        },
        {
          "name": "stdout",
          "output_type": "stream",
          "text": [
            "Accuracy about 10000 test images : accuracy = 94.74\n"
          ]
        },
        {
          "name": "stderr",
          "output_type": "stream",
          "text": [
            "Epoch 21/50: 100%|██████████| 391/391 [01:19<00:00,  4.92batch/s, loss=0.0705]\n",
            "Testing: 100%|██████████| 79/79 [00:07<00:00, 11.05batch/s]\n"
          ]
        },
        {
          "name": "stdout",
          "output_type": "stream",
          "text": [
            "Accuracy about 10000 test images : accuracy = 94.71\n"
          ]
        },
        {
          "name": "stderr",
          "output_type": "stream",
          "text": [
            "Epoch 22/50: 100%|██████████| 391/391 [01:19<00:00,  4.93batch/s, loss=0.0691]\n",
            "Testing: 100%|██████████| 79/79 [00:07<00:00, 10.27batch/s]\n"
          ]
        },
        {
          "name": "stdout",
          "output_type": "stream",
          "text": [
            "Accuracy about 10000 test images : accuracy = 94.83\n"
          ]
        },
        {
          "name": "stderr",
          "output_type": "stream",
          "text": [
            "Epoch 23/50: 100%|██████████| 391/391 [01:18<00:00,  5.00batch/s, loss=0.0658]\n",
            "Testing: 100%|██████████| 79/79 [00:07<00:00, 11.02batch/s]\n"
          ]
        },
        {
          "name": "stdout",
          "output_type": "stream",
          "text": [
            "Accuracy about 10000 test images : accuracy = 94.68\n"
          ]
        },
        {
          "name": "stderr",
          "output_type": "stream",
          "text": [
            "Epoch 24/50: 100%|██████████| 391/391 [01:18<00:00,  5.01batch/s, loss=0.0661]\n",
            "Testing: 100%|██████████| 79/79 [00:07<00:00, 10.96batch/s]\n"
          ]
        },
        {
          "name": "stdout",
          "output_type": "stream",
          "text": [
            "Accuracy about 10000 test images : accuracy = 95.05\n"
          ]
        },
        {
          "name": "stderr",
          "output_type": "stream",
          "text": [
            "Epoch 25/50: 100%|██████████| 391/391 [01:20<00:00,  4.87batch/s, loss=0.0633]\n",
            "Testing: 100%|██████████| 79/79 [00:07<00:00, 10.72batch/s]\n"
          ]
        },
        {
          "name": "stdout",
          "output_type": "stream",
          "text": [
            "Accuracy about 10000 test images : accuracy = 94.02\n"
          ]
        },
        {
          "name": "stderr",
          "output_type": "stream",
          "text": [
            "Epoch 26/50: 100%|██████████| 391/391 [01:19<00:00,  4.89batch/s, loss=0.0591]\n",
            "Testing: 100%|██████████| 79/79 [00:07<00:00, 11.09batch/s]\n"
          ]
        },
        {
          "name": "stdout",
          "output_type": "stream",
          "text": [
            "Accuracy about 10000 test images : accuracy = 94.88\n"
          ]
        },
        {
          "name": "stderr",
          "output_type": "stream",
          "text": [
            "Epoch 27/50: 100%|██████████| 391/391 [01:19<00:00,  4.92batch/s, loss=0.0604]\n",
            "Testing: 100%|██████████| 79/79 [00:07<00:00, 10.87batch/s]\n"
          ]
        },
        {
          "name": "stdout",
          "output_type": "stream",
          "text": [
            "Accuracy about 10000 test images : accuracy = 94.79\n"
          ]
        },
        {
          "name": "stderr",
          "output_type": "stream",
          "text": [
            "Epoch 28/50: 100%|██████████| 391/391 [01:19<00:00,  4.94batch/s, loss=0.0568]\n",
            "Testing: 100%|██████████| 79/79 [00:07<00:00, 11.24batch/s]\n"
          ]
        },
        {
          "name": "stdout",
          "output_type": "stream",
          "text": [
            "Accuracy about 10000 test images : accuracy = 95.43\n"
          ]
        },
        {
          "name": "stderr",
          "output_type": "stream",
          "text": [
            "Epoch 29/50: 100%|██████████| 391/391 [01:18<00:00,  4.97batch/s, loss=0.0568]\n",
            "Testing: 100%|██████████| 79/79 [00:07<00:00, 11.02batch/s]\n"
          ]
        },
        {
          "name": "stdout",
          "output_type": "stream",
          "text": [
            "Accuracy about 10000 test images : accuracy = 95.09\n"
          ]
        },
        {
          "name": "stderr",
          "output_type": "stream",
          "text": [
            "Epoch 30/50: 100%|██████████| 391/391 [01:18<00:00,  4.95batch/s, loss=0.0551]\n",
            "Testing: 100%|██████████| 79/79 [00:06<00:00, 11.31batch/s]\n"
          ]
        },
        {
          "name": "stdout",
          "output_type": "stream",
          "text": [
            "Accuracy about 10000 test images : accuracy = 95.16\n"
          ]
        },
        {
          "name": "stderr",
          "output_type": "stream",
          "text": [
            "Epoch 31/50: 100%|██████████| 391/391 [01:18<00:00,  4.96batch/s, loss=0.042] \n",
            "Testing: 100%|██████████| 79/79 [00:06<00:00, 11.29batch/s]\n"
          ]
        },
        {
          "name": "stdout",
          "output_type": "stream",
          "text": [
            "Accuracy about 10000 test images : accuracy = 95.76\n"
          ]
        },
        {
          "name": "stderr",
          "output_type": "stream",
          "text": [
            "Epoch 32/50: 100%|██████████| 391/391 [01:18<00:00,  5.00batch/s, loss=0.0356]\n",
            "Testing: 100%|██████████| 79/79 [00:07<00:00, 10.91batch/s]\n"
          ]
        },
        {
          "name": "stdout",
          "output_type": "stream",
          "text": [
            "Accuracy about 10000 test images : accuracy = 95.86\n"
          ]
        },
        {
          "name": "stderr",
          "output_type": "stream",
          "text": [
            "Epoch 33/50: 100%|██████████| 391/391 [01:19<00:00,  4.94batch/s, loss=0.0333]\n",
            "Testing: 100%|██████████| 79/79 [00:07<00:00, 10.54batch/s]\n"
          ]
        },
        {
          "name": "stdout",
          "output_type": "stream",
          "text": [
            "Accuracy about 10000 test images : accuracy = 96.06\n"
          ]
        },
        {
          "name": "stderr",
          "output_type": "stream",
          "text": [
            "Epoch 34/50: 100%|██████████| 391/391 [01:19<00:00,  4.94batch/s, loss=0.0312]\n",
            "Testing: 100%|██████████| 79/79 [00:06<00:00, 11.32batch/s]\n"
          ]
        },
        {
          "name": "stdout",
          "output_type": "stream",
          "text": [
            "Accuracy about 10000 test images : accuracy = 96.14\n"
          ]
        },
        {
          "name": "stderr",
          "output_type": "stream",
          "text": [
            "Epoch 35/50: 100%|██████████| 391/391 [01:18<00:00,  5.00batch/s, loss=0.0318]\n",
            "Testing: 100%|██████████| 79/79 [00:08<00:00,  9.55batch/s]\n"
          ]
        },
        {
          "name": "stdout",
          "output_type": "stream",
          "text": [
            "Accuracy about 10000 test images : accuracy = 96.14\n"
          ]
        },
        {
          "name": "stderr",
          "output_type": "stream",
          "text": [
            "Epoch 36/50: 100%|██████████| 391/391 [01:20<00:00,  4.86batch/s, loss=0.0305]\n",
            "Testing: 100%|██████████| 79/79 [00:07<00:00, 10.60batch/s]\n"
          ]
        },
        {
          "name": "stdout",
          "output_type": "stream",
          "text": [
            "Accuracy about 10000 test images : accuracy = 96.14\n"
          ]
        },
        {
          "name": "stderr",
          "output_type": "stream",
          "text": [
            "Epoch 37/50: 100%|██████████| 391/391 [01:21<00:00,  4.82batch/s, loss=0.0284]\n",
            "Testing: 100%|██████████| 79/79 [00:07<00:00, 10.73batch/s]\n"
          ]
        },
        {
          "name": "stdout",
          "output_type": "stream",
          "text": [
            "Accuracy about 10000 test images : accuracy = 96.25\n"
          ]
        },
        {
          "name": "stderr",
          "output_type": "stream",
          "text": [
            "Epoch 38/50: 100%|██████████| 391/391 [01:18<00:00,  4.95batch/s, loss=0.029] \n",
            "Testing: 100%|██████████| 79/79 [00:07<00:00, 10.65batch/s]\n"
          ]
        },
        {
          "name": "stdout",
          "output_type": "stream",
          "text": [
            "Accuracy about 10000 test images : accuracy = 96.15\n"
          ]
        },
        {
          "name": "stderr",
          "output_type": "stream",
          "text": [
            "Epoch 39/50: 100%|██████████| 391/391 [01:18<00:00,  4.98batch/s, loss=0.0275]\n",
            "Testing: 100%|██████████| 79/79 [00:07<00:00, 11.15batch/s]\n"
          ]
        },
        {
          "name": "stdout",
          "output_type": "stream",
          "text": [
            "Accuracy about 10000 test images : accuracy = 96.26\n"
          ]
        },
        {
          "name": "stderr",
          "output_type": "stream",
          "text": [
            "Epoch 40/50: 100%|██████████| 391/391 [01:18<00:00,  4.98batch/s, loss=0.0276]\n",
            "Testing: 100%|██████████| 79/79 [00:06<00:00, 11.52batch/s]\n"
          ]
        },
        {
          "name": "stdout",
          "output_type": "stream",
          "text": [
            "Accuracy about 10000 test images : accuracy = 96.2\n"
          ]
        },
        {
          "name": "stderr",
          "output_type": "stream",
          "text": [
            "Epoch 41/50: 100%|██████████| 391/391 [01:19<00:00,  4.92batch/s, loss=0.0266]\n",
            "Testing: 100%|██████████| 79/79 [00:07<00:00, 10.46batch/s]\n"
          ]
        },
        {
          "name": "stdout",
          "output_type": "stream",
          "text": [
            "Accuracy about 10000 test images : accuracy = 96.21\n"
          ]
        },
        {
          "name": "stderr",
          "output_type": "stream",
          "text": [
            "Epoch 42/50: 100%|██████████| 391/391 [01:20<00:00,  4.87batch/s, loss=0.0276]\n",
            "Testing: 100%|██████████| 79/79 [00:07<00:00, 10.65batch/s]\n"
          ]
        },
        {
          "name": "stdout",
          "output_type": "stream",
          "text": [
            "Accuracy about 10000 test images : accuracy = 96.25\n"
          ]
        },
        {
          "name": "stderr",
          "output_type": "stream",
          "text": [
            "Epoch 43/50: 100%|██████████| 391/391 [01:18<00:00,  4.98batch/s, loss=0.0254]\n",
            "Testing: 100%|██████████| 79/79 [00:07<00:00, 11.17batch/s]\n"
          ]
        },
        {
          "name": "stdout",
          "output_type": "stream",
          "text": [
            "Accuracy about 10000 test images : accuracy = 96.35\n"
          ]
        },
        {
          "name": "stderr",
          "output_type": "stream",
          "text": [
            "Epoch 44/50: 100%|██████████| 391/391 [01:19<00:00,  4.90batch/s, loss=0.0263]\n",
            "Testing: 100%|██████████| 79/79 [00:07<00:00, 11.15batch/s]\n"
          ]
        },
        {
          "name": "stdout",
          "output_type": "stream",
          "text": [
            "Accuracy about 10000 test images : accuracy = 96.17\n"
          ]
        },
        {
          "name": "stderr",
          "output_type": "stream",
          "text": [
            "Epoch 45/50: 100%|██████████| 391/391 [01:18<00:00,  4.99batch/s, loss=0.0257]\n",
            "Testing: 100%|██████████| 79/79 [00:07<00:00, 10.98batch/s]\n"
          ]
        },
        {
          "name": "stdout",
          "output_type": "stream",
          "text": [
            "Accuracy about 10000 test images : accuracy = 96.13\n"
          ]
        },
        {
          "name": "stderr",
          "output_type": "stream",
          "text": [
            "Epoch 46/50: 100%|██████████| 391/391 [01:19<00:00,  4.94batch/s, loss=0.0256]\n",
            "Testing: 100%|██████████| 79/79 [00:07<00:00, 10.23batch/s]\n"
          ]
        },
        {
          "name": "stdout",
          "output_type": "stream",
          "text": [
            "Accuracy about 10000 test images : accuracy = 96.19\n"
          ]
        },
        {
          "name": "stderr",
          "output_type": "stream",
          "text": [
            "Epoch 47/50: 100%|██████████| 391/391 [01:19<00:00,  4.90batch/s, loss=0.0237]\n",
            "Testing: 100%|██████████| 79/79 [00:07<00:00, 10.95batch/s]\n"
          ]
        },
        {
          "name": "stdout",
          "output_type": "stream",
          "text": [
            "Accuracy about 10000 test images : accuracy = 96.26\n"
          ]
        },
        {
          "name": "stderr",
          "output_type": "stream",
          "text": [
            "Epoch 48/50: 100%|██████████| 391/391 [01:18<00:00,  4.95batch/s, loss=0.0248]\n",
            "Testing: 100%|██████████| 79/79 [00:07<00:00, 10.55batch/s]\n"
          ]
        },
        {
          "name": "stdout",
          "output_type": "stream",
          "text": [
            "Accuracy about 10000 test images : accuracy = 96.31\n"
          ]
        },
        {
          "name": "stderr",
          "output_type": "stream",
          "text": [
            "Epoch 49/50: 100%|██████████| 391/391 [01:19<00:00,  4.92batch/s, loss=0.0254]\n",
            "Testing: 100%|██████████| 79/79 [00:07<00:00, 10.74batch/s]\n"
          ]
        },
        {
          "name": "stdout",
          "output_type": "stream",
          "text": [
            "Accuracy about 10000 test images : accuracy = 96.34\n"
          ]
        },
        {
          "name": "stderr",
          "output_type": "stream",
          "text": [
            "Epoch 50/50: 100%|██████████| 391/391 [01:19<00:00,  4.95batch/s, loss=0.0245]\n",
            "Testing: 100%|██████████| 79/79 [00:07<00:00, 11.25batch/s]\n"
          ]
        },
        {
          "name": "stdout",
          "output_type": "stream",
          "text": [
            "Accuracy about 10000 test images : accuracy = 96.26\n",
            "Finished Training\n"
          ]
        }
      ],
      "source": [
        "import warnings\n",
        "warnings.filterwarnings('ignore')\n",
        "\n",
        "model_num = 2 # total number of models\n",
        "total_epoch = 50 # total epoch\n",
        "lr = 0.01 # initial learning rate\n",
        "\n",
        "for s in range(model_num):\n",
        "    # fix random seed\n",
        "    seed_number = s\n",
        "    random.seed(seed_number)\n",
        "    np.random.seed(seed_number)\n",
        "    _ = torch.manual_seed(seed_number)\n",
        "    torch.cuda.manual_seed(seed_number)\n",
        "    torch.cuda.manual_seed_all(seed_number)\n",
        "    torch.backends.cudnn.deterministic = True\n",
        "    torch.backends.cudnn.benchmark = False\n",
        "    \n",
        "    # Check if GPU is available\n",
        "    \n",
        "\n",
        "\n",
        "    # Load the CIFAR-10 dataset\n",
        "    trainset = torchvision.datasets.CIFAR10(root='./data', train=True, download=True, transform=transforms['train'])\n",
        "    trainloader = torch.utils.data.DataLoader(trainset, batch_size=128, shuffle=True, num_workers=16)\n",
        "\n",
        "    testset = torchvision.datasets.CIFAR10(root='./data', train=False, download=True, transform=transforms['test'])\n",
        "    testloader = torch.utils.data.DataLoader(testset, batch_size=128, shuffle=False, num_workers=16)\n",
        "\n",
        "    # Define the ResNet-18 model with pre-trained weights\n",
        "    resnet18 = models.resnet18(pretrained = True).to(device)\n",
        "    in_features = resnet18.fc.in_features #int\n",
        "    resnet18.fc = nn.Sequential(nn.Linear(in_features,10)).to(device)\n",
        "    model = resnet18.to(device)\n",
        "\n",
        "    # Define the loss function and optimizer\n",
        "    # criterion = nn.CrossEntropyLoss()\n",
        "    optimizer = optim.SGD(model.parameters(), lr=lr, momentum=0.9)\n",
        "    criterion = FocalLoss()\n",
        "    # optimizer = optim.Adam(model.parameters(), lr=lr)\n",
        "    # Define the learning rate scheduler\n",
        "    scheduler = optim.lr_scheduler.StepLR(optimizer, step_size=30, gamma=0.1)\n",
        "\n",
        "     \n",
        "    # Train the model\n",
        "    for epoch in range(total_epoch):\n",
        "        train()\n",
        "        test()\n",
        "        scheduler.step()\n",
        "\n",
        "    print('Finished Training')\n",
        "    save_path = '/home/hyungyu/hwcifar10/ex4/resnet18_cifar10_%f_%d.pth' % (lr, seed_number)\n",
        "\n",
        "    # 모델 가중치를 지정한 경로에 저장\n",
        "    torch.save(model.state_dict(), save_path)"
      ]
    },
    {
      "cell_type": "code",
      "execution_count": 12,
      "metadata": {
        "id": "xAWtUiTYe0Do"
      },
      "outputs": [],
      "source": [
        "size = 224\n",
        "mean  = (0.49139968, 0.48215827, 0.44653124)\n",
        "std = (0.24703233, 0.24348505, 0.26158768)\n",
        "\n",
        "# Defrine transforms\n",
        "transform_test = T.Compose([\n",
        "    T.Resize(256),\n",
        "    T.TenCrop(224),\n",
        "    T.Lambda(lambda crops: torch.stack([T.Normalize((0.49139968, 0.48215827, 0.44653124), (0.24703233, 0.24348505, 0.26158768))(T.ToTensor()(crop)) for crop in crops]))\n",
        "\n",
        "    # T.ToTensor(),\n",
        "    # T.Normalize(mean, std)\n",
        "])"
      ]
    },
    {
      "cell_type": "code",
      "execution_count": 13,
      "metadata": {
        "colab": {
          "base_uri": "https://localhost:8080/"
        },
        "id": "vzGGrV_M0zz1",
        "outputId": "917af2a2-be9f-4fb5-baf6-589dbb9a5aae"
      },
      "outputs": [
        {
          "name": "stdout",
          "output_type": "stream",
          "text": [
            "Files already downloaded and verified\n"
          ]
        }
      ],
      "source": [
        "testset2 = torchvision.datasets.CIFAR10(root='./data', train=False, download=True, transform=transform_test)\n",
        "testloader2 = torch.utils.data.DataLoader(testset2, batch_size=128, shuffle=False, num_workers=16)"
      ]
    },
    {
      "cell_type": "code",
      "execution_count": 14,
      "metadata": {
        "colab": {
          "base_uri": "https://localhost:8080/"
        },
        "id": "yb-_Ps_2fcFT",
        "outputId": "e910c625-24fa-415b-c021-0f70621c047e"
      },
      "outputs": [],
      "source": [
        "models2 = []\n",
        "model_num= 2\n",
        "lr = 0.01\n",
        "\n",
        "resnet18 = models.resnet18(pretrained = True).to(device)\n",
        "in_features = resnet18.fc.in_features #int\n",
        "resnet18.fc = nn.Sequential(nn.Linear(in_features,10)).to(device)\n",
        "model = resnet18.to(device)\n",
        "\n",
        "for i in range(model_num):\n",
        "    # Define the ResNet-18 model with pre-trained weights\n",
        "    model.load_state_dict(torch.load(f\"/home/hyungyu/hwcifar10/ex4/resnet18_cifar10_%f_%d.pth\" % (lr, i)))  # Load the trained weights\n",
        "    model.eval()  # Set the model to evaluation mode\n",
        "    model = model.to(device)  # Move the model to the GPU\n",
        "    models2.append(model)"
      ]
    },
    {
      "cell_type": "code",
      "execution_count": 15,
      "metadata": {
        "colab": {
          "base_uri": "https://localhost:8080/"
        },
        "id": "rw4D0W55fsd6",
        "outputId": "455a631b-ab00-4819-d2cc-dd1f2c38de20"
      },
      "outputs": [
        {
          "name": "stdout",
          "output_type": "stream",
          "text": [
            "Accuracy of the ensemble on the 10000 test images: 96.800000 %\n"
          ]
        }
      ],
      "source": [
        "correct = 0\n",
        "total = 0\n",
        "with torch.no_grad():\n",
        "  for data in testloader2:\n",
        "    images, labels = data\n",
        "    images, labels = images.to(device), labels.to(device)  # Move the input data to the GPU\n",
        "    bs, ncrops, c, h, w = images.size()       \n",
        "    outputs = torch.zeros(bs, 10).to(device)  # Initialize the output tensor with zeros\n",
        "    for model in models2:\n",
        "      model_output = model(images.view(-1, c, h, w))  # Reshape the input to (bs*10, c, h, w)\n",
        "      model_output = model_output.view(bs, ncrops, -1).mean(1)  # Average the predictions of the 10 crops\n",
        "      outputs += model_output\n",
        "    _, predicted = torch.max(outputs.data, 1)\n",
        "    total += labels.size(0)\n",
        "    correct += (predicted == labels).sum().item()\n",
        "\n",
        "print('Accuracy of the ensemble on the 10000 test images: %f %%' % (100 * correct / total))"
      ]
    },
    {
      "cell_type": "code",
      "execution_count": null,
      "metadata": {
        "id": "Ad07iTFgfvMH"
      },
      "outputs": [],
      "source": []
    }
  ],
  "metadata": {
    "accelerator": "GPU",
    "colab": {
      "gpuType": "T4",
      "provenance": []
    },
    "gpuClass": "standard",
    "kernelspec": {
      "display_name": "Python 3",
      "name": "python3"
    },
    "language_info": {
      "codemirror_mode": {
        "name": "ipython",
        "version": 3
      },
      "file_extension": ".py",
      "mimetype": "text/x-python",
      "name": "python",
      "nbconvert_exporter": "python",
      "pygments_lexer": "ipython3",
      "version": "3.9.13"
    }
  },
  "nbformat": 4,
  "nbformat_minor": 0
}
